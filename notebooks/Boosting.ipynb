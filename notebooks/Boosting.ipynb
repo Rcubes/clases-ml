{
 "cells": [
  {
   "cell_type": "markdown",
   "metadata": {},
   "source": [
    "# Boosting "
   ]
  },
  {
   "cell_type": "markdown",
   "metadata": {},
   "source": [
    "* Es la aplicación práctica del aprendizaje gradual.\n",
    "* La idea detrás de este modelo es poder ir ajustándose poco a poco al objetivo esperado.\n",
    "* En este caso los modelos son dependientes ya que cada nuevo modelo depende de los resultados obtenidos en la iteración anterior.\n",
    "* En el caso del bagging todos los modelos en conjunto aprenden el mismo modelo y luego se complementan. Aprendizaje colectivo. En el caso del Boosting cada modelo se ajusta a un problema levemente distinto, que contribuye al mismo objetivo.\n",
    "\n",
    "* **Contra**: Debido a que este tipo de modelos siguen una estructura secuencial de entrenamiento no pueden correrse en paralelo. (Aunque XGBoost y LightGBM sí pueden).\n",
    "\n",
    "> Boosting en general tiene capacidad de Early Stopping. No implementada en Scikit-Learn\n"
   ]
  },
  {
   "cell_type": "markdown",
   "metadata": {},
   "source": [
    "# Adaboost"
   ]
  },
  {
   "cell_type": "markdown",
   "metadata": {},
   "source": [
    "* Es un modelo propuesto por Freund and Schapire en 1997.\n",
    "* Este modelo ganó el premio Gödel en 2003. Premio en Informática Teórica. (Primer modelo de Machine Learning en ganar este premio)\n",
    "* Primer modelo práctico en implementar el Boosting.\n",
    "* Permite generar aprendizaje secuencial para cualquier estimador base.\n",
    "* A medida que el ensamble crece la performance mejora.\n",
    "* Este tipo de ensambles está basado en weak learners. De esta manera son rápidos de entrenar y se van ajustando a medida que las iteraciones aumentan."
   ]
  },
  {
   "cell_type": "markdown",
   "metadata": {},
   "source": [
    "# Gradient Boosting Machine "
   ]
  },
  {
   "cell_type": "markdown",
   "metadata": {},
   "source": [
    "![](boosting.png)"
   ]
  },
  {
   "cell_type": "markdown",
   "metadata": {},
   "source": [
    "$$y \\sim f_1(X)$$\n",
    "\n",
    "$$y - f_1(X) \\sim f_2(X)$$\n",
    "\n",
    "$$y \\sim f_1(X) + f_2(X)$$\n",
    "\n",
    "$$y \\sim f_1(X) + f_2(X) + ... + f_n(X) = \\sum_{i = 1}^nf_i(X)$$"
   ]
  },
  {
   "cell_type": "markdown",
   "metadata": {},
   "source": [
    "Corresponde a un modelo aditivo que se va ajustando a los residuos de cada ajuste.\n",
    "\n"
   ]
  },
  {
   "cell_type": "markdown",
   "metadata": {},
   "source": [
    "# Implementando un Adaboost"
   ]
  },
  {
   "cell_type": "code",
   "execution_count": 1,
   "metadata": {},
   "outputs": [],
   "source": [
    "import pandas as pd\n",
    "import numpy as np\n",
    "\n",
    "from sklearn.model_selection import train_test_split, GridSearchCV, RandomizedSearchCV, StratifiedKFold\n",
    "from sklearn.ensemble import AdaBoostClassifier, RandomForestClassifier, GradientBoostingClassifier\n",
    "from sklearn.tree import DecisionTreeClassifier\n",
    "from sklearn.linear_model import LogisticRegression\n",
    "from sklearn.pipeline import Pipeline\n",
    "from sklearn.compose import ColumnTransformer\n",
    "from sklearn.metrics import classification_report\n",
    "from category_encoders import OrdinalEncoder, OneHotEncoder\n",
    "from sklearn.preprocessing import StandardScaler\n",
    "from sklearn.impute import SimpleImputer\n",
    "from sklearn.decomposition import PCA\n",
    "import warnings\n",
    "warnings.filterwarnings(\"ignore\")"
   ]
  },
  {
   "cell_type": "code",
   "execution_count": 2,
   "metadata": {},
   "outputs": [
    {
     "data": {
      "text/html": [
       "<div>\n",
       "<style scoped>\n",
       "    .dataframe tbody tr th:only-of-type {\n",
       "        vertical-align: middle;\n",
       "    }\n",
       "\n",
       "    .dataframe tbody tr th {\n",
       "        vertical-align: top;\n",
       "    }\n",
       "\n",
       "    .dataframe thead th {\n",
       "        text-align: right;\n",
       "    }\n",
       "</style>\n",
       "<table border=\"1\" class=\"dataframe\">\n",
       "  <thead>\n",
       "    <tr style=\"text-align: right;\">\n",
       "      <th></th>\n",
       "      <th>Survived</th>\n",
       "      <th>Pclass</th>\n",
       "      <th>Name</th>\n",
       "      <th>Sex</th>\n",
       "      <th>Age</th>\n",
       "      <th>SibSp</th>\n",
       "      <th>Parch</th>\n",
       "      <th>Ticket</th>\n",
       "      <th>Fare</th>\n",
       "      <th>Cabin</th>\n",
       "      <th>Embarked</th>\n",
       "      <th>Signing_date</th>\n",
       "    </tr>\n",
       "    <tr>\n",
       "      <th>PassengerId</th>\n",
       "      <th></th>\n",
       "      <th></th>\n",
       "      <th></th>\n",
       "      <th></th>\n",
       "      <th></th>\n",
       "      <th></th>\n",
       "      <th></th>\n",
       "      <th></th>\n",
       "      <th></th>\n",
       "      <th></th>\n",
       "      <th></th>\n",
       "      <th></th>\n",
       "    </tr>\n",
       "  </thead>\n",
       "  <tbody>\n",
       "    <tr>\n",
       "      <th>1</th>\n",
       "      <td>0</td>\n",
       "      <td>3</td>\n",
       "      <td>Braund, Mr. Owen Harris</td>\n",
       "      <td>male</td>\n",
       "      <td>22.0</td>\n",
       "      <td>1</td>\n",
       "      <td>0</td>\n",
       "      <td>A/5 21171</td>\n",
       "      <td>7.2500</td>\n",
       "      <td>NaN</td>\n",
       "      <td>S</td>\n",
       "      <td>1911-05-17</td>\n",
       "    </tr>\n",
       "    <tr>\n",
       "      <th>2</th>\n",
       "      <td>1</td>\n",
       "      <td>1</td>\n",
       "      <td>Cumings, Mrs. John Bradley (Florence Briggs Th...</td>\n",
       "      <td>female</td>\n",
       "      <td>38.0</td>\n",
       "      <td>1</td>\n",
       "      <td>0</td>\n",
       "      <td>PC 17599</td>\n",
       "      <td>71.2833</td>\n",
       "      <td>C85</td>\n",
       "      <td>C</td>\n",
       "      <td>1911-07-23</td>\n",
       "    </tr>\n",
       "    <tr>\n",
       "      <th>3</th>\n",
       "      <td>1</td>\n",
       "      <td>3</td>\n",
       "      <td>Heikkinen, Miss. Laina</td>\n",
       "      <td>female</td>\n",
       "      <td>26.0</td>\n",
       "      <td>0</td>\n",
       "      <td>0</td>\n",
       "      <td>STON/O2. 3101282</td>\n",
       "      <td>7.9250</td>\n",
       "      <td>NaN</td>\n",
       "      <td>S</td>\n",
       "      <td>1911-09-08</td>\n",
       "    </tr>\n",
       "    <tr>\n",
       "      <th>4</th>\n",
       "      <td>1</td>\n",
       "      <td>1</td>\n",
       "      <td>Futrelle, Mrs. Jacques Heath (Lily May Peel)</td>\n",
       "      <td>female</td>\n",
       "      <td>35.0</td>\n",
       "      <td>1</td>\n",
       "      <td>0</td>\n",
       "      <td>113803</td>\n",
       "      <td>53.1000</td>\n",
       "      <td>C123</td>\n",
       "      <td>S</td>\n",
       "      <td>1911-06-26</td>\n",
       "    </tr>\n",
       "    <tr>\n",
       "      <th>5</th>\n",
       "      <td>0</td>\n",
       "      <td>3</td>\n",
       "      <td>Allen, Mr. William Henry</td>\n",
       "      <td>male</td>\n",
       "      <td>35.0</td>\n",
       "      <td>0</td>\n",
       "      <td>0</td>\n",
       "      <td>373450</td>\n",
       "      <td>8.0500</td>\n",
       "      <td>NaN</td>\n",
       "      <td>S</td>\n",
       "      <td>1911-10-25</td>\n",
       "    </tr>\n",
       "    <tr>\n",
       "      <th>...</th>\n",
       "      <td>...</td>\n",
       "      <td>...</td>\n",
       "      <td>...</td>\n",
       "      <td>...</td>\n",
       "      <td>...</td>\n",
       "      <td>...</td>\n",
       "      <td>...</td>\n",
       "      <td>...</td>\n",
       "      <td>...</td>\n",
       "      <td>...</td>\n",
       "      <td>...</td>\n",
       "      <td>...</td>\n",
       "    </tr>\n",
       "    <tr>\n",
       "      <th>887</th>\n",
       "      <td>0</td>\n",
       "      <td>2</td>\n",
       "      <td>Montvila, Rev. Juozas</td>\n",
       "      <td>male</td>\n",
       "      <td>27.0</td>\n",
       "      <td>0</td>\n",
       "      <td>0</td>\n",
       "      <td>211536</td>\n",
       "      <td>13.0000</td>\n",
       "      <td>NaN</td>\n",
       "      <td>S</td>\n",
       "      <td>1911-08-17</td>\n",
       "    </tr>\n",
       "    <tr>\n",
       "      <th>888</th>\n",
       "      <td>1</td>\n",
       "      <td>1</td>\n",
       "      <td>Graham, Miss. Margaret Edith</td>\n",
       "      <td>female</td>\n",
       "      <td>19.0</td>\n",
       "      <td>0</td>\n",
       "      <td>0</td>\n",
       "      <td>112053</td>\n",
       "      <td>30.0000</td>\n",
       "      <td>B42</td>\n",
       "      <td>S</td>\n",
       "      <td>1911-08-07</td>\n",
       "    </tr>\n",
       "    <tr>\n",
       "      <th>889</th>\n",
       "      <td>0</td>\n",
       "      <td>3</td>\n",
       "      <td>Johnston, Miss. Catherine Helen \"Carrie\"</td>\n",
       "      <td>female</td>\n",
       "      <td>NaN</td>\n",
       "      <td>1</td>\n",
       "      <td>2</td>\n",
       "      <td>W./C. 6607</td>\n",
       "      <td>23.4500</td>\n",
       "      <td>NaN</td>\n",
       "      <td>S</td>\n",
       "      <td>1912-01-30</td>\n",
       "    </tr>\n",
       "    <tr>\n",
       "      <th>890</th>\n",
       "      <td>1</td>\n",
       "      <td>1</td>\n",
       "      <td>Behr, Mr. Karl Howell</td>\n",
       "      <td>male</td>\n",
       "      <td>26.0</td>\n",
       "      <td>0</td>\n",
       "      <td>0</td>\n",
       "      <td>111369</td>\n",
       "      <td>30.0000</td>\n",
       "      <td>C148</td>\n",
       "      <td>C</td>\n",
       "      <td>1911-08-08</td>\n",
       "    </tr>\n",
       "    <tr>\n",
       "      <th>891</th>\n",
       "      <td>0</td>\n",
       "      <td>3</td>\n",
       "      <td>Dooley, Mr. Patrick</td>\n",
       "      <td>male</td>\n",
       "      <td>32.0</td>\n",
       "      <td>0</td>\n",
       "      <td>0</td>\n",
       "      <td>370376</td>\n",
       "      <td>7.7500</td>\n",
       "      <td>NaN</td>\n",
       "      <td>Q</td>\n",
       "      <td>1911-10-27</td>\n",
       "    </tr>\n",
       "  </tbody>\n",
       "</table>\n",
       "<p>891 rows × 12 columns</p>\n",
       "</div>"
      ],
      "text/plain": [
       "             Survived  Pclass  \\\n",
       "PassengerId                     \n",
       "1                   0       3   \n",
       "2                   1       1   \n",
       "3                   1       3   \n",
       "4                   1       1   \n",
       "5                   0       3   \n",
       "...               ...     ...   \n",
       "887                 0       2   \n",
       "888                 1       1   \n",
       "889                 0       3   \n",
       "890                 1       1   \n",
       "891                 0       3   \n",
       "\n",
       "                                                          Name     Sex   Age  \\\n",
       "PassengerId                                                                    \n",
       "1                                      Braund, Mr. Owen Harris    male  22.0   \n",
       "2            Cumings, Mrs. John Bradley (Florence Briggs Th...  female  38.0   \n",
       "3                                       Heikkinen, Miss. Laina  female  26.0   \n",
       "4                 Futrelle, Mrs. Jacques Heath (Lily May Peel)  female  35.0   \n",
       "5                                     Allen, Mr. William Henry    male  35.0   \n",
       "...                                                        ...     ...   ...   \n",
       "887                                      Montvila, Rev. Juozas    male  27.0   \n",
       "888                               Graham, Miss. Margaret Edith  female  19.0   \n",
       "889                   Johnston, Miss. Catherine Helen \"Carrie\"  female   NaN   \n",
       "890                                      Behr, Mr. Karl Howell    male  26.0   \n",
       "891                                        Dooley, Mr. Patrick    male  32.0   \n",
       "\n",
       "             SibSp  Parch            Ticket     Fare Cabin Embarked  \\\n",
       "PassengerId                                                           \n",
       "1                1      0         A/5 21171   7.2500   NaN        S   \n",
       "2                1      0          PC 17599  71.2833   C85        C   \n",
       "3                0      0  STON/O2. 3101282   7.9250   NaN        S   \n",
       "4                1      0            113803  53.1000  C123        S   \n",
       "5                0      0            373450   8.0500   NaN        S   \n",
       "...            ...    ...               ...      ...   ...      ...   \n",
       "887              0      0            211536  13.0000   NaN        S   \n",
       "888              0      0            112053  30.0000   B42        S   \n",
       "889              1      2        W./C. 6607  23.4500   NaN        S   \n",
       "890              0      0            111369  30.0000  C148        C   \n",
       "891              0      0            370376   7.7500   NaN        Q   \n",
       "\n",
       "            Signing_date  \n",
       "PassengerId               \n",
       "1             1911-05-17  \n",
       "2             1911-07-23  \n",
       "3             1911-09-08  \n",
       "4             1911-06-26  \n",
       "5             1911-10-25  \n",
       "...                  ...  \n",
       "887           1911-08-17  \n",
       "888           1911-08-07  \n",
       "889           1912-01-30  \n",
       "890           1911-08-08  \n",
       "891           1911-10-27  \n",
       "\n",
       "[891 rows x 12 columns]"
      ]
     },
     "execution_count": 2,
     "metadata": {},
     "output_type": "execute_result"
    }
   ],
   "source": [
    "df = pd.read_csv('titanic.csv', index_col = 0)\n",
    "df"
   ]
  },
  {
   "cell_type": "code",
   "execution_count": 3,
   "metadata": {},
   "outputs": [],
   "source": [
    "X = df[['Pclass','Age','SibSp','Parch','Fare']].fillna(df.Age.mean())\n",
    "y = df.Survived\n",
    "\n",
    "X_train, X_test, y_train, y_test = train_test_split(X,y, test_size = 0.3, random_state = 123)"
   ]
  },
  {
   "cell_type": "code",
   "execution_count": 4,
   "metadata": {},
   "outputs": [
    {
     "name": "stdout",
     "output_type": "stream",
     "text": [
      "              precision    recall  f1-score   support\n",
      "\n",
      "           0       0.71      0.85      0.77       379\n",
      "           1       0.66      0.45      0.54       244\n",
      "\n",
      "    accuracy                           0.69       623\n",
      "   macro avg       0.68      0.65      0.65       623\n",
      "weighted avg       0.69      0.69      0.68       623\n",
      "\n",
      "              precision    recall  f1-score   support\n",
      "\n",
      "           0       0.75      0.84      0.79       170\n",
      "           1       0.65      0.51      0.57        98\n",
      "\n",
      "    accuracy                           0.72       268\n",
      "   macro avg       0.70      0.68      0.68       268\n",
      "weighted avg       0.71      0.72      0.71       268\n",
      "\n"
     ]
    }
   ],
   "source": [
    "# probar cambiando parámetros del modelo\n",
    "# C = 0.01, 1, 10, 50, 100\n",
    "adb = AdaBoostClassifier(base_estimator = LogisticRegression(C = 50), n_estimators = 10, random_state = 123)\n",
    "adb.fit(X_train, y_train)\n",
    "y_pred = adb.predict(X_test)\n",
    "y_pred_train = adb.predict(X_train)\n",
    "print(classification_report(y_train, y_pred_train))\n",
    "print(classification_report(y_test, y_pred))"
   ]
  },
  {
   "cell_type": "code",
   "execution_count": 5,
   "metadata": {},
   "outputs": [
    {
     "name": "stdout",
     "output_type": "stream",
     "text": [
      "              precision    recall  f1-score   support\n",
      "\n",
      "           0     0.7546    0.8681    0.8074       379\n",
      "           1     0.7326    0.5615    0.6357       244\n",
      "\n",
      "    accuracy                         0.7480       623\n",
      "   macro avg     0.7436    0.7148    0.7215       623\n",
      "weighted avg     0.7460    0.7480    0.7401       623\n",
      "\n",
      "              precision    recall  f1-score   support\n",
      "\n",
      "           0     0.7898    0.8176    0.8035       170\n",
      "           1     0.6630    0.6224    0.6421        98\n",
      "\n",
      "    accuracy                         0.7463       268\n",
      "   macro avg     0.7264    0.7200    0.7228       268\n",
      "weighted avg     0.7434    0.7463    0.7445       268\n",
      "\n"
     ]
    }
   ],
   "source": [
    "# modelo fuertemente overfitted\n",
    "# regularizarlo fuertemente max_depth = 1, 2, 5\n",
    "# regularizarlo ccp_alpha 0.01, 0.3\n",
    "adb = AdaBoostClassifier(base_estimator = DecisionTreeClassifier(max_depth = 1), n_estimators = 100, random_state = 123) \n",
    "adb.fit(X_train, y_train)\n",
    "y_pred = adb.predict(X_test)\n",
    "y_pred_train = adb.predict(X_train)\n",
    "print(classification_report(y_train, y_pred_train, digits = 4))\n",
    "print(classification_report(y_test, y_pred, digits = 4))"
   ]
  },
  {
   "cell_type": "code",
   "execution_count": 6,
   "metadata": {},
   "outputs": [
    {
     "name": "stdout",
     "output_type": "stream",
     "text": [
      "              precision    recall  f1-score   support\n",
      "\n",
      "           0     0.7534    0.8707    0.8078       379\n",
      "           1     0.7351    0.5574    0.6340       244\n",
      "\n",
      "    accuracy                         0.7480       623\n",
      "   macro avg     0.7443    0.7140    0.7209       623\n",
      "weighted avg     0.7463    0.7480    0.7398       623\n",
      "\n",
      "              precision    recall  f1-score   support\n",
      "\n",
      "           0     0.7753    0.8118    0.7931       170\n",
      "           1     0.6444    0.5918    0.6170        98\n",
      "\n",
      "    accuracy                         0.7313       268\n",
      "   macro avg     0.7099    0.7018    0.7051       268\n",
      "weighted avg     0.7274    0.7313    0.7287       268\n",
      "\n",
      "Wall time: 7.61 s\n"
     ]
    }
   ],
   "source": [
    "%%time\n",
    "# No funciona tan bien cómo si funciona un DecisionTree\n",
    "\n",
    "adb = AdaBoostClassifier(base_estimator = RandomForestClassifier(max_depth = 1), n_estimators = 50, random_state = 123)\n",
    "adb.fit(X_train, y_train)\n",
    "y_pred = adb.predict(X_test)\n",
    "y_pred_train = adb.predict(X_train)\n",
    "print(classification_report(y_train, y_pred_train, digits = 4))\n",
    "print(classification_report(y_test, y_pred, digits = 4))"
   ]
  },
  {
   "cell_type": "markdown",
   "metadata": {},
   "source": [
    "# Gradient Boosting Machine "
   ]
  },
  {
   "cell_type": "code",
   "execution_count": 7,
   "metadata": {},
   "outputs": [
    {
     "name": "stdout",
     "output_type": "stream",
     "text": [
      "              precision    recall  f1-score   support\n",
      "\n",
      "           0     0.7590    0.8892    0.8190       379\n",
      "           1     0.7654    0.5615    0.6478       244\n",
      "\n",
      "    accuracy                         0.7608       623\n",
      "   macro avg     0.7622    0.7253    0.7334       623\n",
      "weighted avg     0.7615    0.7608    0.7519       623\n",
      "\n",
      "              precision    recall  f1-score   support\n",
      "\n",
      "           0     0.7730    0.8412    0.8056       170\n",
      "           1     0.6747    0.5714    0.6188        98\n",
      "\n",
      "    accuracy                         0.7425       268\n",
      "   macro avg     0.7238    0.7063    0.7122       268\n",
      "weighted avg     0.7370    0.7425    0.7373       268\n",
      "\n",
      "Wall time: 70 ms\n"
     ]
    }
   ],
   "source": [
    "%%time\n",
    "# No funciona tan bien cómo si funciona un DecisionTree\n",
    "# max_depth = 1\n",
    "# subsample = 0.6\n",
    "# n_estimators = 50, subsample = 0.6, óptimo\n",
    "adb = GradientBoostingClassifier(n_estimators = 50, subsample = 0.6,  random_state = 123)\n",
    "adb.fit(X_train, y_train)\n",
    "y_pred = adb.predict(X_test)\n",
    "y_pred_train = adb.predict(X_train)\n",
    "print(classification_report(y_train, y_pred_train, digits = 4))\n",
    "print(classification_report(y_test, y_pred, digits = 4))"
   ]
  },
  {
   "cell_type": "markdown",
   "metadata": {},
   "source": [
    "# Modelo más avanzado"
   ]
  },
  {
   "cell_type": "code",
   "execution_count": 8,
   "metadata": {},
   "outputs": [
    {
     "data": {
      "text/plain": [
       "Pclass      category\n",
       "Age          float64\n",
       "SibSp          int64\n",
       "Parch          int64\n",
       "Fare         float64\n",
       "Sex         category\n",
       "Embarked    category\n",
       "dtype: object"
      ]
     },
     "execution_count": 8,
     "metadata": {},
     "output_type": "execute_result"
    }
   ],
   "source": [
    "X = df[['Pclass','Age','SibSp','Parch','Fare', 'Sex','Embarked']].copy()\n",
    "y = df.Survived.copy()\n",
    "\n",
    "X[['Pclass','Sex','Embarked']] = X[['Pclass','Sex','Embarked']].astype('category')\n",
    "X.dtypes"
   ]
  },
  {
   "cell_type": "code",
   "execution_count": 9,
   "metadata": {},
   "outputs": [],
   "source": [
    "X_train, X_test, y_train, y_test = train_test_split(X,y, test_size = 0.2, random_state = 123)"
   ]
  },
  {
   "cell_type": "code",
   "execution_count": 10,
   "metadata": {},
   "outputs": [
    {
     "data": {
      "text/plain": [
       "Pclass       True\n",
       "Age         False\n",
       "SibSp       False\n",
       "Parch       False\n",
       "Fare        False\n",
       "Sex          True\n",
       "Embarked     True\n",
       "dtype: bool"
      ]
     },
     "execution_count": 10,
     "metadata": {},
     "output_type": "execute_result"
    }
   ],
   "source": [
    "is_cat = X_train.dtypes == 'category'\n",
    "is_cat"
   ]
  },
  {
   "cell_type": "code",
   "execution_count": 11,
   "metadata": {},
   "outputs": [
    {
     "name": "stdout",
     "output_type": "stream",
     "text": [
      "              precision    recall  f1-score   support\n",
      "\n",
      "           0     0.9279    0.9770    0.9518       435\n",
      "           1     0.9606    0.8809    0.9190       277\n",
      "\n",
      "    accuracy                         0.9396       712\n",
      "   macro avg     0.9443    0.9289    0.9354       712\n",
      "weighted avg     0.9407    0.9396    0.9391       712\n",
      "\n",
      "              precision    recall  f1-score   support\n",
      "\n",
      "           0     0.9196    0.9035    0.9115       114\n",
      "           1     0.8358    0.8615    0.8485        65\n",
      "\n",
      "    accuracy                         0.8883       179\n",
      "   macro avg     0.8777    0.8825    0.8800       179\n",
      "weighted avg     0.8892    0.8883    0.8886       179\n",
      "\n",
      "Wall time: 138 ms\n"
     ]
    }
   ],
   "source": [
    "%%time\n",
    "cat = Pipeline(steps = [\n",
    "    ('ord', OrdinalEncoder(cols = 'Pclass')),\n",
    "    ('ohe', OneHotEncoder(use_cat_names = True))\n",
    "])\n",
    "\n",
    "num = Pipeline(steps = [\n",
    "    ('imp', SimpleImputer(strategy = 'mean')),\n",
    "    ('sc', StandardScaler()),\n",
    "    #('pt', PowerTransformer())\n",
    "    \n",
    "])\n",
    "\n",
    "prep = ColumnTransformer(transformers = [\n",
    "    ('cat', cat, is_cat),\n",
    "    ('num', num, ~is_cat)\n",
    "])\n",
    "\n",
    "pipe = Pipeline(steps = [\n",
    "    ('prep', prep),\n",
    "    #('pca', PCA(n_components = 10)),\n",
    "    ('gb', GradientBoostingClassifier(n_estimators = 50, learning_rate = 0.5, max_depth = 3, random_state = 123))\n",
    "])\n",
    "\n",
    "pipe.fit(X_train, y_train)\n",
    "y_pred = pipe.predict(X_test)\n",
    "y_pred_train = pipe.predict(X_train)\n",
    "\n",
    "print(classification_report(y_train, y_pred_train, digits = 4))\n",
    "print(classification_report(y_test, y_pred, digits = 4))"
   ]
  },
  {
   "cell_type": "code",
   "execution_count": 12,
   "metadata": {},
   "outputs": [
    {
     "name": "stdout",
     "output_type": "stream",
     "text": [
      "Wall time: 998 µs\n"
     ]
    }
   ],
   "source": [
    "%%time\n",
    "cat = Pipeline(steps = [\n",
    "    ('ord', OrdinalEncoder(cols = 'Pclass')),\n",
    "    ('ohe', OneHotEncoder(use_cat_names = True))\n",
    "])\n",
    "\n",
    "num = Pipeline(steps = [\n",
    "    ('imp', SimpleImputer(strategy = 'mean')),\n",
    "    ('sc', StandardScaler()),\n",
    "    #('pt', PowerTransformer())\n",
    "    \n",
    "])\n",
    "\n",
    "prep = ColumnTransformer(transformers = [\n",
    "    ('cat', cat, is_cat),\n",
    "    ('num', num, ~is_cat)\n",
    "])\n",
    "\n",
    "pipe = Pipeline(steps = [\n",
    "    ('prep', prep),\n",
    "    #('pca', PCA(n_components = 10)),\n",
    "    ('gb', GradientBoostingClassifier())#n_estimators = 50, learning_rate = 0.5, max_depth = 3, random_state = 123))\n",
    "])\n",
    "\n",
    "params = {#'gb__n_estimators:': [50, 100],\n",
    "         'gb__learning_rate': [0.1, 0.5, 1],\n",
    "         'gb__max_depth': [1, 3, 5]\n",
    "         \n",
    "         }\n",
    "\n",
    "\n",
    "search = GridSearchCV(pipe, params, cv = StratifiedKFold(n_splits = 5), scoring = 'f1', n_jobs = -1)"
   ]
  },
  {
   "cell_type": "code",
   "execution_count": 13,
   "metadata": {},
   "outputs": [
    {
     "name": "stdout",
     "output_type": "stream",
     "text": [
      "              precision    recall  f1-score   support\n",
      "\n",
      "           0     0.8891    0.9402    0.9140       435\n",
      "           1     0.8968    0.8159    0.8544       277\n",
      "\n",
      "    accuracy                         0.8919       712\n",
      "   macro avg     0.8930    0.8781    0.8842       712\n",
      "weighted avg     0.8921    0.8919    0.8908       712\n",
      "\n",
      "              precision    recall  f1-score   support\n",
      "\n",
      "           0     0.8707    0.8860    0.8783       114\n",
      "           1     0.7937    0.7692    0.7813        65\n",
      "\n",
      "    accuracy                         0.8436       179\n",
      "   macro avg     0.8322    0.8276    0.8298       179\n",
      "weighted avg     0.8427    0.8436    0.8430       179\n",
      "\n",
      "Wall time: 6.48 s\n"
     ]
    }
   ],
   "source": [
    "%%time\n",
    "search.fit(X_train, y_train)\n",
    "y_pred = search.predict(X_test)\n",
    "y_pred_train = search.predict(X_train)\n",
    "\n",
    "print(classification_report(y_train, y_pred_train, digits = 4))\n",
    "print(classification_report(y_test, y_pred, digits = 4))"
   ]
  },
  {
   "cell_type": "code",
   "execution_count": 14,
   "metadata": {},
   "outputs": [
    {
     "name": "stdout",
     "output_type": "stream",
     "text": [
      "\n",
      "System:\n",
      "    python: 3.7.7 (default, Apr 15 2020, 05:09:04) [MSC v.1916 64 bit (AMD64)]\n",
      "executable: C:\\Users\\fata2810\\AppData\\Local\\Continuum\\anaconda3\\envs\\MLprojects\\python.exe\n",
      "   machine: Windows-10-10.0.18362-SP0\n",
      "\n",
      "Python dependencies:\n",
      "          pip: 20.2.2\n",
      "   setuptools: 49.6.0.post20200814\n",
      "      sklearn: 0.23.1\n",
      "        numpy: 1.19.1\n",
      "        scipy: 1.5.2\n",
      "       Cython: 0.29.17\n",
      "       pandas: 1.1.2\n",
      "   matplotlib: 3.2.2\n",
      "       joblib: 0.16.0\n",
      "threadpoolctl: 2.1.0\n",
      "\n",
      "Built with OpenMP: True\n"
     ]
    }
   ],
   "source": [
    "import sklearn; sklearn.show_versions()"
   ]
  },
  {
   "cell_type": "markdown",
   "metadata": {},
   "source": [
    "> VER EXTREME GRANDIENT BOOST XGBOOST Y LIGHTGBM"
   ]
  }
 ],
 "metadata": {
  "kernelspec": {
   "display_name": "Python 3.7.7 64-bit ('MLprojects': conda)",
   "language": "python",
   "name": "python37764bitmlprojectsconda9e66019a9ab047499c0882be49df755b"
  },
  "language_info": {
   "codemirror_mode": {
    "name": "ipython",
    "version": 3
   },
   "file_extension": ".py",
   "mimetype": "text/x-python",
   "name": "python",
   "nbconvert_exporter": "python",
   "pygments_lexer": "ipython3",
   "version": "3.7.7"
  },
  "widgets": {
   "application/vnd.jupyter.widget-state+json": {
    "state": {},
    "version_major": 2,
    "version_minor": 0
   }
  }
 },
 "nbformat": 4,
 "nbformat_minor": 4
}
