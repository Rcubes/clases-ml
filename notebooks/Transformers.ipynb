{
 "cells": [
  {
   "cell_type": "markdown",
   "metadata": {},
   "source": [
    "# Más Modelos de Regresión y Transformers"
   ]
  },
  {
   "cell_type": "code",
   "execution_count": 1,
   "metadata": {},
   "outputs": [],
   "source": [
    "import pandas as pd\n",
    "import numpy as np\n",
    "from sklearn.neighbors import KNeighborsRegressor\n",
    "from sklearn.model_selection import train_test_split\n",
    "from sklearn.metrics import r2_score, mean_squared_error, mean_absolute_error\n",
    "from category_encoders import OrdinalEncoder, OneHotEncoder\n",
    "from sklearn.preprocessing import StandardScaler"
   ]
  },
  {
   "cell_type": "markdown",
   "metadata": {},
   "source": [
    "## Cargando data del Titanic "
   ]
  },
  {
   "cell_type": "code",
   "execution_count": 2,
   "metadata": {},
   "outputs": [],
   "source": [
    "df = pd.read_csv('titanic.csv')\n",
    "df['Fare'] = df.Fare*1000 # Se infla un poquito para ver el efecto de los Transformers"
   ]
  },
  {
   "cell_type": "code",
   "execution_count": 3,
   "metadata": {},
   "outputs": [],
   "source": [
    "X = df[['Pclass','SibSp','Fare']]\n",
    "y = df.Age.fillna(df.Age.mean())\n",
    "\n",
    "X_train, X_test, y_train, y_test  = train_test_split(X, y, test_size = 0.3, random_state = 123)"
   ]
  },
  {
   "cell_type": "code",
   "execution_count": 4,
   "metadata": {},
   "outputs": [],
   "source": [
    "# creando una función utilizando las métricas más importantes para medir en Regresión\n",
    "def evaluation(y, y_pred):\n",
    "    rmse = np.sqrt(mean_squared_error(y,y_pred))\n",
    "    mae = np.sqrt(mean_absolute_error(y,y_pred))\n",
    "    r2 = r2_score(y, y_pred)\n",
    "    \n",
    "    print('RMSE:',rmse)\n",
    "    print('MAE:', mae)\n",
    "    print('R2:', r2)\n",
    "    print('')\n",
    " "
   ]
  },
  {
   "cell_type": "markdown",
   "metadata": {},
   "source": [
    "## Presentando KNN "
   ]
  },
  {
   "cell_type": "code",
   "execution_count": 5,
   "metadata": {},
   "outputs": [
    {
     "name": "stdout",
     "output_type": "stream",
     "text": [
      "RMSE: 11.097068145502814\n",
      "MAE: 2.846933508737516\n",
      "R2: 0.23770948069151343\n",
      "\n",
      "RMSE: 13.78107055311991\n",
      "MAE: 3.289857574753015\n",
      "R2: -0.022693752495068553\n",
      "\n"
     ]
    }
   ],
   "source": [
    "knn = KNeighborsRegressor()\n",
    "knn.fit(X_train, y_train)\n",
    "y_pred = knn.predict(X_test)\n",
    "y_pred_train = knn.predict(X_train)\n",
    "\n",
    "evaluation(y_train, y_pred_train)\n",
    "evaluation(y_test, y_pred)"
   ]
  },
  {
   "cell_type": "code",
   "execution_count": 6,
   "metadata": {},
   "outputs": [
    {
     "name": "stdout",
     "output_type": "stream",
     "text": [
      "RMSE: 12.834229356766496\n",
      "MAE: 3.201102442614478\n",
      "R2: 0.11300885745398226\n",
      "\n"
     ]
    }
   ],
   "source": [
    "X_train, X_test, y_train, y_test = train_test_split(X, y, test_size = 0.3, random_state = 123)\n",
    "\n",
    "sc = StandardScaler()\n",
    "X_train_sc = sc.fit_transform(X_train)\n",
    "X_test_sc = sc.transform(X_test)\n",
    "\n",
    "knn = KNeighborsRegressor()\n",
    "knn.fit(X_train_sc, y_train)\n",
    "y_pred = knn.predict(X_test_sc)\n",
    "\n",
    "evaluation(y_test, y_pred)"
   ]
  },
  {
   "cell_type": "markdown",
   "metadata": {},
   "source": [
    "# Transformers más básicos en Scikit Learn"
   ]
  },
  {
   "cell_type": "markdown",
   "metadata": {},
   "source": [
    "## Estandarizar"
   ]
  },
  {
   "cell_type": "code",
   "execution_count": 7,
   "metadata": {},
   "outputs": [],
   "source": [
    "df = pd.read_csv('mtcars.csv', index_col = 0)"
   ]
  },
  {
   "cell_type": "code",
   "execution_count": 8,
   "metadata": {},
   "outputs": [
    {
     "data": {
      "text/plain": [
       "array([[ 1.53299135e-01, -1.06667720e-01, -5.79750316e-01,\n",
       "        -5.43654869e-01,  5.76594481e-01, -6.20166581e-01,\n",
       "        -7.89600577e-01, -8.81917104e-01,  1.20894105e+00,\n",
       "         4.30331483e-01,  7.46967077e-01],\n",
       "       [ 1.53299135e-01, -1.06667720e-01, -5.79750316e-01,\n",
       "        -5.43654869e-01,  5.76594481e-01, -3.55382189e-01,\n",
       "        -4.71201785e-01, -8.81917104e-01,  1.20894105e+00,\n",
       "         4.30331483e-01,  7.46967077e-01],\n",
       "       [ 4.56736599e-01, -1.24445674e+00, -1.00602601e+00,\n",
       "        -7.95569902e-01,  4.81584062e-01, -9.31677630e-01,\n",
       "         4.32823359e-01,  1.13389342e+00,  1.20894105e+00,\n",
       "         4.30331483e-01, -1.14010764e+00],\n",
       "       [ 2.20729683e-01, -1.06667720e-01,  2.23615417e-01,\n",
       "        -5.43654869e-01, -9.81576392e-01, -2.33633287e-03,\n",
       "         9.04735855e-01,  1.13389342e+00, -8.27170192e-01,\n",
       "        -9.46729262e-01, -1.14010764e+00],\n",
       "       [-2.34426513e-01,  1.03112130e+00,  1.05977159e+00,\n",
       "         4.19549669e-01, -8.48561806e-01,  2.31296954e-01,\n",
       "        -4.71201785e-01, -8.81917104e-01, -8.27170192e-01,\n",
       "        -9.46729262e-01, -5.11082737e-01],\n",
       "       [-3.35572334e-01, -1.06667720e-01, -4.69056970e-02,\n",
       "        -6.17747526e-01, -1.58964307e+00,  2.52064357e-01,\n",
       "         1.34821989e+00,  1.13389342e+00, -8.27170192e-01,\n",
       "        -9.46729262e-01, -1.14010764e+00],\n",
       "       [-9.76162534e-01,  1.03112130e+00,  1.05977159e+00,\n",
       "         1.45684686e+00, -7.34549303e-01,  3.66285076e-01,\n",
       "        -1.14211353e+00, -8.81917104e-01, -8.27170192e-01,\n",
       "        -9.46729262e-01,  7.46967077e-01],\n",
       "       [ 7.26458788e-01, -1.24445674e+00, -6.88778522e-01,\n",
       "        -1.25494437e+00,  1.77550721e-01, -2.82955870e-02,\n",
       "         1.22313465e+00,  1.13389342e+00, -8.27170192e-01,\n",
       "         4.30331483e-01, -5.11082737e-01],\n",
       "       [ 4.56736599e-01, -1.24445674e+00, -7.37144418e-01,\n",
       "        -7.65932839e-01,  6.14598649e-01, -6.98303936e-02,\n",
       "         2.87198554e+00,  1.13389342e+00, -8.27170192e-01,\n",
       "         4.30331483e-01, -5.11082737e-01],\n",
       "       [-1.50138328e-01, -1.06667720e-01, -5.17448483e-01,\n",
       "        -3.51013961e-01,  6.14598649e-01,  2.31296954e-01,\n",
       "         2.56566884e-01,  1.13389342e+00, -8.27170192e-01,\n",
       "         4.30331483e-01,  7.46967077e-01],\n",
       "       [-3.86145244e-01, -1.06667720e-01, -5.17448483e-01,\n",
       "        -3.51013961e-01,  6.14598649e-01,  2.31296954e-01,\n",
       "         5.97708448e-01,  1.13389342e+00, -8.27170192e-01,\n",
       "         4.30331483e-01,  7.46967077e-01],\n",
       "       [-6.22152160e-01,  1.03112130e+00,  3.69532866e-01,\n",
       "         4.93642326e-01, -1.00057848e+00,  8.85470158e-01,\n",
       "        -2.55145461e-01, -8.81917104e-01, -8.27170192e-01,\n",
       "        -9.46729262e-01,  1.17942170e-01],\n",
       "       [-4.70433428e-01,  1.03112130e+00,  3.69532866e-01,\n",
       "         4.93642326e-01, -1.00057848e+00,  5.32424302e-01,\n",
       "        -1.41431607e-01, -8.81917104e-01, -8.27170192e-01,\n",
       "        -9.46729262e-01,  1.17942170e-01],\n",
       "       [-8.24443802e-01,  1.03112130e+00,  3.69532866e-01,\n",
       "         4.93642326e-01, -1.00057848e+00,  5.84342810e-01,\n",
       "         8.59961025e-02, -8.81917104e-01, -8.27170192e-01,\n",
       "        -9.46729262e-01,  1.17942170e-01],\n",
       "       [-1.63361037e+00,  1.03112130e+00,  1.97790385e+00,\n",
       "         8.64105609e-01, -1.26660765e+00,  2.11074695e+00,\n",
       "         7.46247170e-02, -8.81917104e-01, -8.27170192e-01,\n",
       "        -9.46729262e-01,  7.46967077e-01],\n",
       "       [-1.63361037e+00,  1.03112130e+00,  1.87953254e+00,\n",
       "         1.01229092e+00, -1.13359306e+00,  2.29142336e+00,\n",
       "        -1.63463666e-02, -8.81917104e-01, -8.27170192e-01,\n",
       "        -9.46729262e-01,  7.46967077e-01],\n",
       "       [-9.08731987e-01,  1.03112130e+00,  1.71558035e+00,\n",
       "         1.23456889e+00, -6.96545135e-01,  2.20939212e+00,\n",
       "        -2.43774076e-01, -8.81917104e-01, -8.27170192e-01,\n",
       "        -9.46729262e-01,  7.46967077e-01],\n",
       "       [ 2.07506974e+00, -1.24445674e+00, -1.24621597e+00,\n",
       "        -1.19567025e+00,  9.18631990e-01, -1.05628205e+00,\n",
       "         9.21792933e-01,  1.13389342e+00,  1.20894105e+00,\n",
       "         4.30331483e-01, -1.14010764e+00],\n",
       "       [ 1.73791700e+00, -1.24445674e+00, -1.27080880e+00,\n",
       "        -1.40312969e+00,  2.53380911e+00, -1.66372860e+00,\n",
       "         3.81652124e-01,  1.13389342e+00,  1.20894105e+00,\n",
       "         4.30331483e-01, -5.11082737e-01],\n",
       "       [ 2.32793429e+00, -1.24445674e+00, -1.30851780e+00,\n",
       "        -1.21048878e+00,  1.18466116e+00, -1.43528716e+00,\n",
       "         1.16627772e+00,  1.13389342e+00,  1.20894105e+00,\n",
       "         4.30331483e-01, -1.14010764e+00],\n",
       "       [ 2.37587319e-01, -1.24445674e+00, -9.06834935e-01,\n",
       "        -7.36295776e-01,  1.96552805e-01, -7.81113956e-01,\n",
       "         1.22882034e+00,  1.13389342e+00, -8.27170192e-01,\n",
       "        -9.46729262e-01, -1.14010764e+00],\n",
       "       [-7.73870892e-01,  1.03112130e+00,  7.15471988e-01,\n",
       "         4.90863851e-02, -1.58964307e+00,  3.14366567e-01,\n",
       "        -5.56487176e-01, -8.81917104e-01, -8.27170192e-01,\n",
       "        -9.46729262e-01, -5.11082737e-01],\n",
       "       [-8.24443802e-01,  1.03112130e+00,  6.00705455e-01,\n",
       "         4.90863851e-02, -8.48561806e-01,  2.26105103e-01,\n",
       "        -3.12002388e-01, -8.81917104e-01, -8.27170192e-01,\n",
       "        -9.46729262e-01, -5.11082737e-01],\n",
       "       [-1.14473890e+00,  1.03112130e+00,  9.77795493e-01,\n",
       "         1.45684686e+00,  2.53559056e-01,  6.46645020e-01,\n",
       "        -1.38659831e+00, -8.81917104e-01, -8.27170192e-01,\n",
       "        -9.46729262e-01,  7.46967077e-01],\n",
       "       [-1.50138328e-01,  1.03112130e+00,  1.38767597e+00,\n",
       "         4.19549669e-01, -9.81576392e-01,  6.51836871e-01,\n",
       "        -4.54144707e-01, -8.81917104e-01, -8.27170192e-01,\n",
       "        -9.46729262e-01, -5.11082737e-01],\n",
       "       [ 1.21533026e+00, -1.24445674e+00, -1.24375669e+00,\n",
       "        -1.19567025e+00,  9.18631990e-01, -1.33145014e+00,\n",
       "         5.97708448e-01,  1.13389342e+00,  1.20894105e+00,\n",
       "         4.30331483e-01, -1.14010764e+00],\n",
       "       [ 9.96180978e-01, -1.24445674e+00, -9.05195413e-01,\n",
       "        -8.25206964e-01,  1.58370492e+00, -1.11858426e+00,\n",
       "        -6.53143952e-01, -8.81917104e-01,  1.20894105e+00,\n",
       "         1.80739223e+00, -5.11082737e-01],\n",
       "       [ 1.73791700e+00, -1.24445674e+00, -1.11177517e+00,\n",
       "        -4.99199275e-01,  3.29567391e-01, -1.76964235e+00,\n",
       "        -5.39430097e-01,  1.13389342e+00,  1.20894105e+00,\n",
       "         1.80739223e+00, -5.11082737e-01],\n",
       "       [-7.23297981e-01,  1.03112130e+00,  9.85993102e-01,\n",
       "         1.73839896e+00,  1.18466116e+00, -4.90629903e-02,\n",
       "        -1.90399635e+00, -8.81917104e-01,  1.20894105e+00,\n",
       "         1.80739223e+00,  7.46967077e-01],\n",
       "       [-6.58501440e-02, -1.06667720e-01, -7.02714458e-01,\n",
       "         4.19549669e-01,  4.45361340e-02, -4.64411056e-01,\n",
       "        -1.33542708e+00, -8.81917104e-01,  1.20894105e+00,\n",
       "         1.80739223e+00,  2.00501689e+00],\n",
       "       [-8.58159076e-01,  1.03112130e+00,  5.76112626e-01,\n",
       "         2.79051468e+00, -1.07480537e-01,  3.66285076e-01,\n",
       "        -1.84713942e+00, -8.81917104e-01,  1.20894105e+00,\n",
       "         1.80739223e+00,  3.26306671e+00],\n",
       "       [ 2.20729683e-01, -1.24445674e+00, -8.99457087e-01,\n",
       "        -5.58473400e-01,  9.75638241e-01, -4.54027354e-01,\n",
       "         4.27137666e-01,  1.13389342e+00,  1.20894105e+00,\n",
       "         4.30331483e-01, -5.11082737e-01]])"
      ]
     },
     "execution_count": 8,
     "metadata": {},
     "output_type": "execute_result"
    }
   ],
   "source": [
    "# se puede ajustar y luego transformar\n",
    "sc = StandardScaler()\n",
    "sc.fit(df)\n",
    "sc.transform(df)"
   ]
  },
  {
   "cell_type": "code",
   "execution_count": 9,
   "metadata": {
    "scrolled": true
   },
   "outputs": [
    {
     "data": {
      "text/plain": [
       "array([[ 1.53299135e-01, -1.06667720e-01, -5.79750316e-01,\n",
       "        -5.43654869e-01,  5.76594481e-01, -6.20166581e-01,\n",
       "        -7.89600577e-01, -8.81917104e-01,  1.20894105e+00,\n",
       "         4.30331483e-01,  7.46967077e-01],\n",
       "       [ 1.53299135e-01, -1.06667720e-01, -5.79750316e-01,\n",
       "        -5.43654869e-01,  5.76594481e-01, -3.55382189e-01,\n",
       "        -4.71201785e-01, -8.81917104e-01,  1.20894105e+00,\n",
       "         4.30331483e-01,  7.46967077e-01],\n",
       "       [ 4.56736599e-01, -1.24445674e+00, -1.00602601e+00,\n",
       "        -7.95569902e-01,  4.81584062e-01, -9.31677630e-01,\n",
       "         4.32823359e-01,  1.13389342e+00,  1.20894105e+00,\n",
       "         4.30331483e-01, -1.14010764e+00],\n",
       "       [ 2.20729683e-01, -1.06667720e-01,  2.23615417e-01,\n",
       "        -5.43654869e-01, -9.81576392e-01, -2.33633287e-03,\n",
       "         9.04735855e-01,  1.13389342e+00, -8.27170192e-01,\n",
       "        -9.46729262e-01, -1.14010764e+00],\n",
       "       [-2.34426513e-01,  1.03112130e+00,  1.05977159e+00,\n",
       "         4.19549669e-01, -8.48561806e-01,  2.31296954e-01,\n",
       "        -4.71201785e-01, -8.81917104e-01, -8.27170192e-01,\n",
       "        -9.46729262e-01, -5.11082737e-01],\n",
       "       [-3.35572334e-01, -1.06667720e-01, -4.69056970e-02,\n",
       "        -6.17747526e-01, -1.58964307e+00,  2.52064357e-01,\n",
       "         1.34821989e+00,  1.13389342e+00, -8.27170192e-01,\n",
       "        -9.46729262e-01, -1.14010764e+00],\n",
       "       [-9.76162534e-01,  1.03112130e+00,  1.05977159e+00,\n",
       "         1.45684686e+00, -7.34549303e-01,  3.66285076e-01,\n",
       "        -1.14211353e+00, -8.81917104e-01, -8.27170192e-01,\n",
       "        -9.46729262e-01,  7.46967077e-01],\n",
       "       [ 7.26458788e-01, -1.24445674e+00, -6.88778522e-01,\n",
       "        -1.25494437e+00,  1.77550721e-01, -2.82955870e-02,\n",
       "         1.22313465e+00,  1.13389342e+00, -8.27170192e-01,\n",
       "         4.30331483e-01, -5.11082737e-01],\n",
       "       [ 4.56736599e-01, -1.24445674e+00, -7.37144418e-01,\n",
       "        -7.65932839e-01,  6.14598649e-01, -6.98303936e-02,\n",
       "         2.87198554e+00,  1.13389342e+00, -8.27170192e-01,\n",
       "         4.30331483e-01, -5.11082737e-01],\n",
       "       [-1.50138328e-01, -1.06667720e-01, -5.17448483e-01,\n",
       "        -3.51013961e-01,  6.14598649e-01,  2.31296954e-01,\n",
       "         2.56566884e-01,  1.13389342e+00, -8.27170192e-01,\n",
       "         4.30331483e-01,  7.46967077e-01],\n",
       "       [-3.86145244e-01, -1.06667720e-01, -5.17448483e-01,\n",
       "        -3.51013961e-01,  6.14598649e-01,  2.31296954e-01,\n",
       "         5.97708448e-01,  1.13389342e+00, -8.27170192e-01,\n",
       "         4.30331483e-01,  7.46967077e-01],\n",
       "       [-6.22152160e-01,  1.03112130e+00,  3.69532866e-01,\n",
       "         4.93642326e-01, -1.00057848e+00,  8.85470158e-01,\n",
       "        -2.55145461e-01, -8.81917104e-01, -8.27170192e-01,\n",
       "        -9.46729262e-01,  1.17942170e-01],\n",
       "       [-4.70433428e-01,  1.03112130e+00,  3.69532866e-01,\n",
       "         4.93642326e-01, -1.00057848e+00,  5.32424302e-01,\n",
       "        -1.41431607e-01, -8.81917104e-01, -8.27170192e-01,\n",
       "        -9.46729262e-01,  1.17942170e-01],\n",
       "       [-8.24443802e-01,  1.03112130e+00,  3.69532866e-01,\n",
       "         4.93642326e-01, -1.00057848e+00,  5.84342810e-01,\n",
       "         8.59961025e-02, -8.81917104e-01, -8.27170192e-01,\n",
       "        -9.46729262e-01,  1.17942170e-01],\n",
       "       [-1.63361037e+00,  1.03112130e+00,  1.97790385e+00,\n",
       "         8.64105609e-01, -1.26660765e+00,  2.11074695e+00,\n",
       "         7.46247170e-02, -8.81917104e-01, -8.27170192e-01,\n",
       "        -9.46729262e-01,  7.46967077e-01],\n",
       "       [-1.63361037e+00,  1.03112130e+00,  1.87953254e+00,\n",
       "         1.01229092e+00, -1.13359306e+00,  2.29142336e+00,\n",
       "        -1.63463666e-02, -8.81917104e-01, -8.27170192e-01,\n",
       "        -9.46729262e-01,  7.46967077e-01],\n",
       "       [-9.08731987e-01,  1.03112130e+00,  1.71558035e+00,\n",
       "         1.23456889e+00, -6.96545135e-01,  2.20939212e+00,\n",
       "        -2.43774076e-01, -8.81917104e-01, -8.27170192e-01,\n",
       "        -9.46729262e-01,  7.46967077e-01],\n",
       "       [ 2.07506974e+00, -1.24445674e+00, -1.24621597e+00,\n",
       "        -1.19567025e+00,  9.18631990e-01, -1.05628205e+00,\n",
       "         9.21792933e-01,  1.13389342e+00,  1.20894105e+00,\n",
       "         4.30331483e-01, -1.14010764e+00],\n",
       "       [ 1.73791700e+00, -1.24445674e+00, -1.27080880e+00,\n",
       "        -1.40312969e+00,  2.53380911e+00, -1.66372860e+00,\n",
       "         3.81652124e-01,  1.13389342e+00,  1.20894105e+00,\n",
       "         4.30331483e-01, -5.11082737e-01],\n",
       "       [ 2.32793429e+00, -1.24445674e+00, -1.30851780e+00,\n",
       "        -1.21048878e+00,  1.18466116e+00, -1.43528716e+00,\n",
       "         1.16627772e+00,  1.13389342e+00,  1.20894105e+00,\n",
       "         4.30331483e-01, -1.14010764e+00],\n",
       "       [ 2.37587319e-01, -1.24445674e+00, -9.06834935e-01,\n",
       "        -7.36295776e-01,  1.96552805e-01, -7.81113956e-01,\n",
       "         1.22882034e+00,  1.13389342e+00, -8.27170192e-01,\n",
       "        -9.46729262e-01, -1.14010764e+00],\n",
       "       [-7.73870892e-01,  1.03112130e+00,  7.15471988e-01,\n",
       "         4.90863851e-02, -1.58964307e+00,  3.14366567e-01,\n",
       "        -5.56487176e-01, -8.81917104e-01, -8.27170192e-01,\n",
       "        -9.46729262e-01, -5.11082737e-01],\n",
       "       [-8.24443802e-01,  1.03112130e+00,  6.00705455e-01,\n",
       "         4.90863851e-02, -8.48561806e-01,  2.26105103e-01,\n",
       "        -3.12002388e-01, -8.81917104e-01, -8.27170192e-01,\n",
       "        -9.46729262e-01, -5.11082737e-01],\n",
       "       [-1.14473890e+00,  1.03112130e+00,  9.77795493e-01,\n",
       "         1.45684686e+00,  2.53559056e-01,  6.46645020e-01,\n",
       "        -1.38659831e+00, -8.81917104e-01, -8.27170192e-01,\n",
       "        -9.46729262e-01,  7.46967077e-01],\n",
       "       [-1.50138328e-01,  1.03112130e+00,  1.38767597e+00,\n",
       "         4.19549669e-01, -9.81576392e-01,  6.51836871e-01,\n",
       "        -4.54144707e-01, -8.81917104e-01, -8.27170192e-01,\n",
       "        -9.46729262e-01, -5.11082737e-01],\n",
       "       [ 1.21533026e+00, -1.24445674e+00, -1.24375669e+00,\n",
       "        -1.19567025e+00,  9.18631990e-01, -1.33145014e+00,\n",
       "         5.97708448e-01,  1.13389342e+00,  1.20894105e+00,\n",
       "         4.30331483e-01, -1.14010764e+00],\n",
       "       [ 9.96180978e-01, -1.24445674e+00, -9.05195413e-01,\n",
       "        -8.25206964e-01,  1.58370492e+00, -1.11858426e+00,\n",
       "        -6.53143952e-01, -8.81917104e-01,  1.20894105e+00,\n",
       "         1.80739223e+00, -5.11082737e-01],\n",
       "       [ 1.73791700e+00, -1.24445674e+00, -1.11177517e+00,\n",
       "        -4.99199275e-01,  3.29567391e-01, -1.76964235e+00,\n",
       "        -5.39430097e-01,  1.13389342e+00,  1.20894105e+00,\n",
       "         1.80739223e+00, -5.11082737e-01],\n",
       "       [-7.23297981e-01,  1.03112130e+00,  9.85993102e-01,\n",
       "         1.73839896e+00,  1.18466116e+00, -4.90629903e-02,\n",
       "        -1.90399635e+00, -8.81917104e-01,  1.20894105e+00,\n",
       "         1.80739223e+00,  7.46967077e-01],\n",
       "       [-6.58501440e-02, -1.06667720e-01, -7.02714458e-01,\n",
       "         4.19549669e-01,  4.45361340e-02, -4.64411056e-01,\n",
       "        -1.33542708e+00, -8.81917104e-01,  1.20894105e+00,\n",
       "         1.80739223e+00,  2.00501689e+00],\n",
       "       [-8.58159076e-01,  1.03112130e+00,  5.76112626e-01,\n",
       "         2.79051468e+00, -1.07480537e-01,  3.66285076e-01,\n",
       "        -1.84713942e+00, -8.81917104e-01,  1.20894105e+00,\n",
       "         1.80739223e+00,  3.26306671e+00],\n",
       "       [ 2.20729683e-01, -1.24445674e+00, -8.99457087e-01,\n",
       "        -5.58473400e-01,  9.75638241e-01, -4.54027354e-01,\n",
       "         4.27137666e-01,  1.13389342e+00,  1.20894105e+00,\n",
       "         4.30331483e-01, -5.11082737e-01]])"
      ]
     },
     "execution_count": 9,
     "metadata": {},
     "output_type": "execute_result"
    }
   ],
   "source": [
    "# o hacer ambas cosas a la vez\n",
    "sc = StandardScaler()\n",
    "sc.fit_transform(df)"
   ]
  },
  {
   "cell_type": "markdown",
   "metadata": {},
   "source": [
    "# Data leakage \n",
    "Ejemplo de Estandarizar de manera incorrecto y mostrar diferencias en las métricas de evaluación."
   ]
  },
  {
   "cell_type": "code",
   "execution_count": 10,
   "metadata": {},
   "outputs": [],
   "source": [
    "df = pd.read_csv('titanic.csv')\n",
    "df['Fare'] = df.Fare*1000"
   ]
  },
  {
   "cell_type": "code",
   "execution_count": 11,
   "metadata": {},
   "outputs": [],
   "source": [
    "X = df[['Pclass','SibSp','Fare']]\n",
    "y = df.Age.fillna(df.Age.mean())"
   ]
  },
  {
   "cell_type": "markdown",
   "metadata": {},
   "source": [
    "## Manera Incorrecta "
   ]
  },
  {
   "cell_type": "code",
   "execution_count": 12,
   "metadata": {
    "scrolled": true
   },
   "outputs": [
    {
     "name": "stdout",
     "output_type": "stream",
     "text": [
      "RMSE: 12.848766382620424\n",
      "MAE: 3.2011839337500954\n",
      "R2: 0.11099837200965901\n",
      "\n"
     ]
    }
   ],
   "source": [
    "sc = StandardScaler()\n",
    "X_sc = sc.fit_transform(X)\n",
    "\n",
    "X_train, X_test, y_train, y_test = train_test_split(X_sc, y, test_size = 0.3, random_state = 123)\n",
    "\n",
    "\n",
    "knn = KNeighborsRegressor()\n",
    "knn.fit(X_train, y_train)\n",
    "y_pred = knn.predict(X_test)\n",
    "\n",
    "evaluation(y_test, y_pred)"
   ]
  },
  {
   "cell_type": "markdown",
   "metadata": {},
   "source": [
    "## Manera Correcta "
   ]
  },
  {
   "cell_type": "code",
   "execution_count": 13,
   "metadata": {},
   "outputs": [
    {
     "name": "stdout",
     "output_type": "stream",
     "text": [
      "RMSE: 12.834229356766496\n",
      "MAE: 3.201102442614478\n",
      "R2: 0.11300885745398226\n",
      "\n"
     ]
    }
   ],
   "source": [
    "X_train, X_test, y_train, y_test = train_test_split(X, y, test_size = 0.3, random_state = 123)\n",
    "\n",
    "sc = StandardScaler()\n",
    "X_train_sc = sc.fit_transform(X_train)\n",
    "X_test_sc = sc.transform(X_test)\n",
    "\n",
    "knn = KNeighborsRegressor()\n",
    "knn.fit(X_train_sc, y_train)\n",
    "y_pred = knn.predict(X_test_sc)\n",
    "\n",
    "evaluation(y_test, y_pred)"
   ]
  },
  {
   "cell_type": "markdown",
   "metadata": {},
   "source": [
    "## Encoders "
   ]
  },
  {
   "cell_type": "code",
   "execution_count": 14,
   "metadata": {},
   "outputs": [
    {
     "data": {
      "text/html": [
       "<div>\n",
       "<style scoped>\n",
       "    .dataframe tbody tr th:only-of-type {\n",
       "        vertical-align: middle;\n",
       "    }\n",
       "\n",
       "    .dataframe tbody tr th {\n",
       "        vertical-align: top;\n",
       "    }\n",
       "\n",
       "    .dataframe thead th {\n",
       "        text-align: right;\n",
       "    }\n",
       "</style>\n",
       "<table border=\"1\" class=\"dataframe\">\n",
       "  <thead>\n",
       "    <tr style=\"text-align: right;\">\n",
       "      <th></th>\n",
       "      <th>Embarked</th>\n",
       "    </tr>\n",
       "  </thead>\n",
       "  <tbody>\n",
       "    <tr>\n",
       "      <th>0</th>\n",
       "      <td>S</td>\n",
       "    </tr>\n",
       "    <tr>\n",
       "      <th>1</th>\n",
       "      <td>C</td>\n",
       "    </tr>\n",
       "    <tr>\n",
       "      <th>2</th>\n",
       "      <td>S</td>\n",
       "    </tr>\n",
       "    <tr>\n",
       "      <th>3</th>\n",
       "      <td>S</td>\n",
       "    </tr>\n",
       "    <tr>\n",
       "      <th>4</th>\n",
       "      <td>S</td>\n",
       "    </tr>\n",
       "    <tr>\n",
       "      <th>...</th>\n",
       "      <td>...</td>\n",
       "    </tr>\n",
       "    <tr>\n",
       "      <th>886</th>\n",
       "      <td>S</td>\n",
       "    </tr>\n",
       "    <tr>\n",
       "      <th>887</th>\n",
       "      <td>S</td>\n",
       "    </tr>\n",
       "    <tr>\n",
       "      <th>888</th>\n",
       "      <td>S</td>\n",
       "    </tr>\n",
       "    <tr>\n",
       "      <th>889</th>\n",
       "      <td>C</td>\n",
       "    </tr>\n",
       "    <tr>\n",
       "      <th>890</th>\n",
       "      <td>Q</td>\n",
       "    </tr>\n",
       "  </tbody>\n",
       "</table>\n",
       "<p>891 rows × 1 columns</p>\n",
       "</div>"
      ],
      "text/plain": [
       "    Embarked\n",
       "0          S\n",
       "1          C\n",
       "2          S\n",
       "3          S\n",
       "4          S\n",
       "..       ...\n",
       "886        S\n",
       "887        S\n",
       "888        S\n",
       "889        C\n",
       "890        Q\n",
       "\n",
       "[891 rows x 1 columns]"
      ]
     },
     "execution_count": 14,
     "metadata": {},
     "output_type": "execute_result"
    }
   ],
   "source": [
    "df[['Embarked']]"
   ]
  },
  {
   "cell_type": "markdown",
   "metadata": {},
   "source": [
    "## Ordinal Encoder"
   ]
  },
  {
   "cell_type": "code",
   "execution_count": 15,
   "metadata": {},
   "outputs": [
    {
     "data": {
      "text/plain": [
       "1    644\n",
       "2    168\n",
       "3     77\n",
       "4      2\n",
       "Name: Embarked, dtype: int64"
      ]
     },
     "execution_count": 15,
     "metadata": {},
     "output_type": "execute_result"
    }
   ],
   "source": [
    "X = df.Embarked\n",
    "\n",
    "ord_enc = OrdinalEncoder()\n",
    "ord_enc.fit_transform(X).Embarked.value_counts()"
   ]
  },
  {
   "cell_type": "code",
   "execution_count": 16,
   "metadata": {},
   "outputs": [
    {
     "data": {
      "text/plain": [
       "{'cols': ['Embarked'],\n",
       " 'drop_invariant': False,\n",
       " 'handle_missing': 'value',\n",
       " 'handle_unknown': 'value',\n",
       " 'mapping': [{'col': 'Embarked',\n",
       "   'mapping': S      1\n",
       "   C      2\n",
       "   Q      3\n",
       "   NaN    4\n",
       "   dtype: int64,\n",
       "   'data_type': dtype('O')}],\n",
       " 'return_df': True,\n",
       " 'verbose': 0}"
      ]
     },
     "execution_count": 16,
     "metadata": {},
     "output_type": "execute_result"
    }
   ],
   "source": [
    "ord_enc.get_params() # un diccionario que permite obtener los parámetros del encoder"
   ]
  },
  {
   "cell_type": "markdown",
   "metadata": {},
   "source": [
    "## OneHotEncoder "
   ]
  },
  {
   "cell_type": "code",
   "execution_count": 17,
   "metadata": {},
   "outputs": [
    {
     "data": {
      "text/html": [
       "<div>\n",
       "<style scoped>\n",
       "    .dataframe tbody tr th:only-of-type {\n",
       "        vertical-align: middle;\n",
       "    }\n",
       "\n",
       "    .dataframe tbody tr th {\n",
       "        vertical-align: top;\n",
       "    }\n",
       "\n",
       "    .dataframe thead th {\n",
       "        text-align: right;\n",
       "    }\n",
       "</style>\n",
       "<table border=\"1\" class=\"dataframe\">\n",
       "  <thead>\n",
       "    <tr style=\"text-align: right;\">\n",
       "      <th></th>\n",
       "      <th>Embarked_S</th>\n",
       "      <th>Embarked_C</th>\n",
       "      <th>Embarked_Q</th>\n",
       "      <th>Embarked_nan</th>\n",
       "    </tr>\n",
       "  </thead>\n",
       "  <tbody>\n",
       "    <tr>\n",
       "      <th>0</th>\n",
       "      <td>1</td>\n",
       "      <td>0</td>\n",
       "      <td>0</td>\n",
       "      <td>0</td>\n",
       "    </tr>\n",
       "    <tr>\n",
       "      <th>1</th>\n",
       "      <td>0</td>\n",
       "      <td>1</td>\n",
       "      <td>0</td>\n",
       "      <td>0</td>\n",
       "    </tr>\n",
       "    <tr>\n",
       "      <th>2</th>\n",
       "      <td>1</td>\n",
       "      <td>0</td>\n",
       "      <td>0</td>\n",
       "      <td>0</td>\n",
       "    </tr>\n",
       "    <tr>\n",
       "      <th>3</th>\n",
       "      <td>1</td>\n",
       "      <td>0</td>\n",
       "      <td>0</td>\n",
       "      <td>0</td>\n",
       "    </tr>\n",
       "    <tr>\n",
       "      <th>4</th>\n",
       "      <td>1</td>\n",
       "      <td>0</td>\n",
       "      <td>0</td>\n",
       "      <td>0</td>\n",
       "    </tr>\n",
       "    <tr>\n",
       "      <th>...</th>\n",
       "      <td>...</td>\n",
       "      <td>...</td>\n",
       "      <td>...</td>\n",
       "      <td>...</td>\n",
       "    </tr>\n",
       "    <tr>\n",
       "      <th>886</th>\n",
       "      <td>1</td>\n",
       "      <td>0</td>\n",
       "      <td>0</td>\n",
       "      <td>0</td>\n",
       "    </tr>\n",
       "    <tr>\n",
       "      <th>887</th>\n",
       "      <td>1</td>\n",
       "      <td>0</td>\n",
       "      <td>0</td>\n",
       "      <td>0</td>\n",
       "    </tr>\n",
       "    <tr>\n",
       "      <th>888</th>\n",
       "      <td>1</td>\n",
       "      <td>0</td>\n",
       "      <td>0</td>\n",
       "      <td>0</td>\n",
       "    </tr>\n",
       "    <tr>\n",
       "      <th>889</th>\n",
       "      <td>0</td>\n",
       "      <td>1</td>\n",
       "      <td>0</td>\n",
       "      <td>0</td>\n",
       "    </tr>\n",
       "    <tr>\n",
       "      <th>890</th>\n",
       "      <td>0</td>\n",
       "      <td>0</td>\n",
       "      <td>1</td>\n",
       "      <td>0</td>\n",
       "    </tr>\n",
       "  </tbody>\n",
       "</table>\n",
       "<p>891 rows × 4 columns</p>\n",
       "</div>"
      ],
      "text/plain": [
       "     Embarked_S  Embarked_C  Embarked_Q  Embarked_nan\n",
       "0             1           0           0             0\n",
       "1             0           1           0             0\n",
       "2             1           0           0             0\n",
       "3             1           0           0             0\n",
       "4             1           0           0             0\n",
       "..          ...         ...         ...           ...\n",
       "886           1           0           0             0\n",
       "887           1           0           0             0\n",
       "888           1           0           0             0\n",
       "889           0           1           0             0\n",
       "890           0           0           1             0\n",
       "\n",
       "[891 rows x 4 columns]"
      ]
     },
     "execution_count": 17,
     "metadata": {},
     "output_type": "execute_result"
    }
   ],
   "source": [
    "X = df.Embarked\n",
    "ord_enc = OneHotEncoder(use_cat_names = True)\n",
    "ord_enc.fit_transform(X)"
   ]
  },
  {
   "cell_type": "markdown",
   "metadata": {},
   "source": [
    "# Ejercicios"
   ]
  },
  {
   "cell_type": "markdown",
   "metadata": {},
   "source": [
    "Generar un modelo de Regresión que permita predecir la Edad de un pasajero mediante las variables dadas.`."
   ]
  },
  {
   "cell_type": "markdown",
   "metadata": {},
   "source": [
    "## KNN + OneHot"
   ]
  },
  {
   "cell_type": "code",
   "execution_count": 18,
   "metadata": {},
   "outputs": [],
   "source": [
    "df = pd.read_csv('titanic.csv')\n",
    "df['Fare'] = df.Fare*1000"
   ]
  },
  {
   "cell_type": "code",
   "execution_count": 19,
   "metadata": {},
   "outputs": [],
   "source": [
    "X = df[['Pclass','SibSp','Fare', 'Embarked']]\n",
    "y = df.Age.fillna(df.Age.mean())\n",
    "\n",
    "X_train, X_test, y_train, y_test  = train_test_split(X, y, test_size = 0.3, random_state = 123)"
   ]
  },
  {
   "cell_type": "code",
   "execution_count": 20,
   "metadata": {},
   "outputs": [],
   "source": [
    "enc = OneHotEncoder()\n",
    "X_train_enc = enc.fit_transform(X_train)\n",
    "X_test_enc = enc.transform(X_test)\n"
   ]
  },
  {
   "cell_type": "code",
   "execution_count": 21,
   "metadata": {},
   "outputs": [
    {
     "name": "stdout",
     "output_type": "stream",
     "text": [
      "RMSE: 11.00269224278825\n",
      "MAE: 2.8408323081786064\n",
      "R2: 0.2506202670938994\n",
      "\n",
      "RMSE: 13.689808779188434\n",
      "MAE: 3.283374226699551\n",
      "R2: -0.0091935227859401\n",
      "\n"
     ]
    }
   ],
   "source": [
    "knn = KNeighborsRegressor()\n",
    "knn.fit(X_train_enc, y_train)\n",
    "y_pred = knn.predict(X_test_enc)\n",
    "y_pred_train = knn.predict(X_train_enc)\n",
    "\n",
    "evaluation(y_train, y_pred_train)\n",
    "evaluation(y_test, y_pred)"
   ]
  },
  {
   "cell_type": "markdown",
   "metadata": {},
   "source": [
    "## KNN + OneHotEncoder + StandardScaler "
   ]
  },
  {
   "cell_type": "code",
   "execution_count": 22,
   "metadata": {},
   "outputs": [],
   "source": [
    "sc = StandardScaler()\n",
    "X_train_sc = sc.fit_transform(X_train_enc)\n",
    "X_test_sc = sc.transform(X_test_enc)\n",
    "\n"
   ]
  },
  {
   "cell_type": "code",
   "execution_count": 23,
   "metadata": {},
   "outputs": [
    {
     "name": "stdout",
     "output_type": "stream",
     "text": [
      "KNN + OneHot\n",
      "RMSE: 10.596655261524903\n",
      "MAE: 2.79805071619602\n",
      "R2: 0.30490906614089563\n",
      "\n",
      "RMSE: 12.716024352894255\n",
      "MAE: 3.1656873129387146\n",
      "R2: 0.12927223594120496\n",
      "\n"
     ]
    }
   ],
   "source": [
    "knn = KNeighborsRegressor()\n",
    "knn.fit(X_train_sc, y_train)\n",
    "y_pred = knn.predict(X_test_sc)\n",
    "y_pred_train = knn.predict(X_train_sc)\n",
    "\n",
    "print('KNN + OneHot')\n",
    "evaluation(y_train, y_pred_train)\n",
    "evaluation(y_test, y_pred)"
   ]
  },
  {
   "cell_type": "markdown",
   "metadata": {},
   "source": [
    "## Mismo procedimiento anterior con Pipelines "
   ]
  },
  {
   "cell_type": "code",
   "execution_count": 24,
   "metadata": {},
   "outputs": [
    {
     "name": "stdout",
     "output_type": "stream",
     "text": [
      "KNN + OneHot, Test:\n",
      "RMSE: 12.716024352894255\n",
      "MAE: 3.1656873129387146\n",
      "R2: 0.12927223594120496\n",
      "\n"
     ]
    }
   ],
   "source": [
    "from sklearn.pipeline import Pipeline\n",
    "\n",
    "pipe = Pipeline(steps = [\n",
    "    ('ohe', OneHotEncoder()),\n",
    "    ('sc', StandardScaler()),\n",
    "    ('knn', KNeighborsRegressor())\n",
    "])\n",
    "\n",
    "pipe.fit(X_train, y_train)\n",
    "y_pred = pipe.predict(X_test)\n",
    "\n",
    "print('KNN + OneHot, Test:')\n",
    "evaluation(y_test, y_pred)\n",
    "\n"
   ]
  },
  {
   "cell_type": "markdown",
   "metadata": {},
   "source": [
    "## Repitiendo pero esta vez aplicando LR "
   ]
  },
  {
   "cell_type": "code",
   "execution_count": 25,
   "metadata": {},
   "outputs": [
    {
     "name": "stdout",
     "output_type": "stream",
     "text": [
      "LR + OneHot, Test:\n",
      "RMSE: 12.478825703086661\n",
      "MAE: 3.103176867446452\n",
      "R2: 0.16145354315592952\n",
      "\n"
     ]
    }
   ],
   "source": [
    "from sklearn.pipeline import Pipeline\n",
    "from sklearn.linear_model import LinearRegression\n",
    "\n",
    "pipe = Pipeline(steps = [\n",
    "    ('ohe', OneHotEncoder()),\n",
    "    ('sc', StandardScaler()),\n",
    "    ('knn', LinearRegression())\n",
    "])\n",
    "\n",
    "pipe.fit(X_train, y_train)\n",
    "y_pred = pipe.predict(X_test)\n",
    "\n",
    "print('LR + OneHot, Test:')\n",
    "evaluation(y_test, y_pred)"
   ]
  }
 ],
 "metadata": {
  "kernelspec": {
   "display_name": "Python 3.7.7 64-bit ('MLprojects': conda)",
   "language": "python",
   "name": "python37764bitmlprojectsconda9e66019a9ab047499c0882be49df755b"
  },
  "language_info": {
   "codemirror_mode": {
    "name": "ipython",
    "version": 3
   },
   "file_extension": ".py",
   "mimetype": "text/x-python",
   "name": "python",
   "nbconvert_exporter": "python",
   "pygments_lexer": "ipython3",
   "version": "3.7.7"
  },
  "widgets": {
   "application/vnd.jupyter.widget-state+json": {
    "state": {},
    "version_major": 2,
    "version_minor": 0
   }
  }
 },
 "nbformat": 4,
 "nbformat_minor": 4
}
