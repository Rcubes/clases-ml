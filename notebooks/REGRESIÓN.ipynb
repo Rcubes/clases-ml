{
 "cells": [
  {
   "cell_type": "markdown",
   "metadata": {},
   "source": [
    "# Mi primera Regresión Lineal "
   ]
  },
  {
   "cell_type": "code",
   "execution_count": 1,
   "metadata": {},
   "outputs": [
    {
     "data": {
      "text/html": [
       "<div>\n",
       "<style scoped>\n",
       "    .dataframe tbody tr th:only-of-type {\n",
       "        vertical-align: middle;\n",
       "    }\n",
       "\n",
       "    .dataframe tbody tr th {\n",
       "        vertical-align: top;\n",
       "    }\n",
       "\n",
       "    .dataframe thead th {\n",
       "        text-align: right;\n",
       "    }\n",
       "</style>\n",
       "<table border=\"1\" class=\"dataframe\">\n",
       "  <thead>\n",
       "    <tr style=\"text-align: right;\">\n",
       "      <th></th>\n",
       "      <th>mpg</th>\n",
       "      <th>cyl</th>\n",
       "      <th>disp</th>\n",
       "      <th>hp</th>\n",
       "      <th>drat</th>\n",
       "      <th>wt</th>\n",
       "      <th>qsec</th>\n",
       "      <th>vs</th>\n",
       "      <th>am</th>\n",
       "      <th>gear</th>\n",
       "      <th>carb</th>\n",
       "    </tr>\n",
       "  </thead>\n",
       "  <tbody>\n",
       "    <tr>\n",
       "      <th>Mazda RX4</th>\n",
       "      <td>21.0</td>\n",
       "      <td>6</td>\n",
       "      <td>160.0</td>\n",
       "      <td>110</td>\n",
       "      <td>3.90</td>\n",
       "      <td>2.620</td>\n",
       "      <td>16.46</td>\n",
       "      <td>0</td>\n",
       "      <td>1</td>\n",
       "      <td>4</td>\n",
       "      <td>4</td>\n",
       "    </tr>\n",
       "    <tr>\n",
       "      <th>Mazda RX4 Wag</th>\n",
       "      <td>21.0</td>\n",
       "      <td>6</td>\n",
       "      <td>160.0</td>\n",
       "      <td>110</td>\n",
       "      <td>3.90</td>\n",
       "      <td>2.875</td>\n",
       "      <td>17.02</td>\n",
       "      <td>0</td>\n",
       "      <td>1</td>\n",
       "      <td>4</td>\n",
       "      <td>4</td>\n",
       "    </tr>\n",
       "    <tr>\n",
       "      <th>Datsun 710</th>\n",
       "      <td>22.8</td>\n",
       "      <td>4</td>\n",
       "      <td>108.0</td>\n",
       "      <td>93</td>\n",
       "      <td>3.85</td>\n",
       "      <td>2.320</td>\n",
       "      <td>18.61</td>\n",
       "      <td>1</td>\n",
       "      <td>1</td>\n",
       "      <td>4</td>\n",
       "      <td>1</td>\n",
       "    </tr>\n",
       "    <tr>\n",
       "      <th>Hornet 4 Drive</th>\n",
       "      <td>21.4</td>\n",
       "      <td>6</td>\n",
       "      <td>258.0</td>\n",
       "      <td>110</td>\n",
       "      <td>3.08</td>\n",
       "      <td>3.215</td>\n",
       "      <td>19.44</td>\n",
       "      <td>1</td>\n",
       "      <td>0</td>\n",
       "      <td>3</td>\n",
       "      <td>1</td>\n",
       "    </tr>\n",
       "    <tr>\n",
       "      <th>Hornet Sportabout</th>\n",
       "      <td>18.7</td>\n",
       "      <td>8</td>\n",
       "      <td>360.0</td>\n",
       "      <td>175</td>\n",
       "      <td>3.15</td>\n",
       "      <td>3.440</td>\n",
       "      <td>17.02</td>\n",
       "      <td>0</td>\n",
       "      <td>0</td>\n",
       "      <td>3</td>\n",
       "      <td>2</td>\n",
       "    </tr>\n",
       "  </tbody>\n",
       "</table>\n",
       "</div>"
      ],
      "text/plain": [
       "                    mpg  cyl   disp   hp  drat     wt   qsec  vs  am  gear  \\\n",
       "Mazda RX4          21.0    6  160.0  110  3.90  2.620  16.46   0   1     4   \n",
       "Mazda RX4 Wag      21.0    6  160.0  110  3.90  2.875  17.02   0   1     4   \n",
       "Datsun 710         22.8    4  108.0   93  3.85  2.320  18.61   1   1     4   \n",
       "Hornet 4 Drive     21.4    6  258.0  110  3.08  3.215  19.44   1   0     3   \n",
       "Hornet Sportabout  18.7    8  360.0  175  3.15  3.440  17.02   0   0     3   \n",
       "\n",
       "                   carb  \n",
       "Mazda RX4             4  \n",
       "Mazda RX4 Wag         4  \n",
       "Datsun 710            1  \n",
       "Hornet 4 Drive        1  \n",
       "Hornet Sportabout     2  "
      ]
     },
     "execution_count": 1,
     "metadata": {},
     "output_type": "execute_result"
    }
   ],
   "source": [
    "import pandas as pd\n",
    "import numpy as np\n",
    "\n",
    "df = pd.read_csv('mtcars.csv', index_col = 0)\n",
    "df.head()"
   ]
  },
  {
   "cell_type": "markdown",
   "metadata": {},
   "source": [
    "## Generando mi matriz de Atributos y Vector Objetivo"
   ]
  },
  {
   "cell_type": "code",
   "execution_count": 2,
   "metadata": {},
   "outputs": [
    {
     "data": {
      "text/plain": [
       "0.8690157644777647"
      ]
     },
     "execution_count": 2,
     "metadata": {},
     "output_type": "execute_result"
    }
   ],
   "source": [
    "X = df.drop(columns = 'mpg')\n",
    "y = df.mpg\n",
    "\n",
    "# Instanciando mi Regresión Lineal\n",
    "from sklearn.linear_model import LinearRegression\n",
    "lr = LinearRegression()\n",
    "lr.fit(X,y)\n",
    "lr.score(X,y) # .score() devuelve R2 por defecto para problemas de regresión."
   ]
  },
  {
   "cell_type": "markdown",
   "metadata": {},
   "source": [
    "## Obteniendo los coeficientes beta de mi Regresión más el intercepto "
   ]
  },
  {
   "cell_type": "code",
   "execution_count": 3,
   "metadata": {},
   "outputs": [
    {
     "data": {
      "text/plain": [
       "array([-0.11144048,  0.01333524, -0.02148212,  0.78711097, -3.71530393,\n",
       "        0.82104075,  0.31776281,  2.52022689,  0.65541302, -0.19941925])"
      ]
     },
     "execution_count": 3,
     "metadata": {},
     "output_type": "execute_result"
    }
   ],
   "source": [
    "lr.coef_"
   ]
  },
  {
   "cell_type": "code",
   "execution_count": 4,
   "metadata": {},
   "outputs": [
    {
     "data": {
      "text/plain": [
       "12.30337415599627"
      ]
     },
     "execution_count": 4,
     "metadata": {},
     "output_type": "execute_result"
    }
   ],
   "source": [
    "lr.intercept_"
   ]
  },
  {
   "cell_type": "markdown",
   "metadata": {},
   "source": [
    "## Implementando un modelo Utilizando Train y Test Sets"
   ]
  },
  {
   "cell_type": "code",
   "execution_count": 5,
   "metadata": {},
   "outputs": [],
   "source": [
    "from sklearn.model_selection import train_test_split\n",
    "\n",
    "# pueden escribir este código en una sóla línea\n",
    "X_train, X_test, y_train, y_test = train_test_split(df.drop(columns = 'mpg'), df.mpg, test_size = 0.3, random_state = 123)"
   ]
  },
  {
   "cell_type": "code",
   "execution_count": 6,
   "metadata": {},
   "outputs": [
    {
     "data": {
      "text/plain": [
       "0.5347705850352262"
      ]
     },
     "execution_count": 6,
     "metadata": {},
     "output_type": "execute_result"
    }
   ],
   "source": [
    "from sklearn.linear_model import LinearRegression\n",
    "lr = LinearRegression() #crear el modelo\n",
    "lr.fit(X_train,y_train) # entrenamiento en el train_set\n",
    "lr.score(X_test,y_test) #evaluación en el test_set"
   ]
  },
  {
   "cell_type": "markdown",
   "metadata": {},
   "source": [
    "# Ejercicios "
   ]
  },
  {
   "cell_type": "markdown",
   "metadata": {},
   "source": [
    "## Implementando un Modelo de Regresión en el set de Diabetes "
   ]
  },
  {
   "cell_type": "code",
   "execution_count": 7,
   "metadata": {},
   "outputs": [
    {
     "name": "stdout",
     "output_type": "stream",
     "text": [
      "Score Train: 0.5174979976746197\n",
      "Score Test: 0.5078285584893742\n",
      "Max coef: s5\n",
      "Min coef: s1\n"
     ]
    }
   ],
   "source": [
    "from sklearn.datasets import load_diabetes\n",
    "diabetes = load_diabetes(as_frame = True)\n",
    "X = diabetes.data\n",
    "y = diabetes.target\n",
    "\n",
    "X_train, X_test, y_train, y_test = train_test_split(X,y, test_size = 0.3, random_state = 123)\n",
    "\n",
    "lr = LinearRegression()\n",
    "lr.fit(X_train, y_train)\n",
    "# Midiendo mis resultados tanto en train como en test set\n",
    "\n",
    "print('Score Train:', lr.score(X_train, y_train))\n",
    "print('Score Test:', lr.score(X_test, y_test))\n",
    "\n",
    "# Identificando los coeficientes con mayor contribución al modelo\n",
    "ind_pos = np.argmax(lr.coef_)\n",
    "ind_neg = np.argmin(lr.coef_)\n",
    "print('Max coef:', X.columns[ind_pos])\n",
    "print('Min coef:', X.columns[ind_neg])\n"
   ]
  },
  {
   "cell_type": "markdown",
   "metadata": {},
   "source": [
    "## Implementando un Modelo de Regresión en el set de Boston House "
   ]
  },
  {
   "cell_type": "code",
   "execution_count": 8,
   "metadata": {},
   "outputs": [
    {
     "name": "stdout",
     "output_type": "stream",
     "text": [
      "Score Train: 0.7559380876016175\n",
      "Score Test: 0.6592466510354097\n",
      "Max coef: RM\n",
      "Min coef: NOX\n"
     ]
    }
   ],
   "source": [
    "from sklearn.datasets import load_boston\n",
    "\n",
    "X,y  = load_boston(return_X_y  = True)\n",
    "names = load_boston()['feature_names']\n",
    "\n",
    "X_train, X_test, y_train, y_test = train_test_split(X,y, test_size = 0.2, random_state = 123)\n",
    "\n",
    "lr = LinearRegression()\n",
    "lr.fit(X_train, y_train)\n",
    "\n",
    "# Midiendo mis resultados tanto en train como en test set\n",
    "print('Score Train:', lr.score(X_train, y_train))\n",
    "print('Score Test:', lr.score(X_test, y_test))\n",
    "\n",
    "# Identificando los coeficientes con mayor contribución al modelo\n",
    "ind_pos = np.argmax(lr.coef_)\n",
    "ind_neg = np.argmin(lr.coef_)\n",
    "print('Max coef:', names[ind_pos])\n",
    "print('Min coef:', names[ind_neg])\n"
   ]
  },
  {
   "cell_type": "markdown",
   "metadata": {},
   "source": [
    "# Implementando Modelos con otras métricas"
   ]
  },
  {
   "cell_type": "code",
   "execution_count": 9,
   "metadata": {},
   "outputs": [
    {
     "name": "stdout",
     "output_type": "stream",
     "text": [
      "Diabetes:\n",
      "R2 Train: 0.5174979976746197\n",
      "R2 Test 0.5078285584893742\n",
      "MSE Train: 2854.168253060431\n",
      "MSE Test: 2926.8005772468828\n",
      "RMSE Train: 53.424416263169704\n",
      "RMSE Test: 54.099912913487046\n",
      "MAE Train: 43.03474379534746\n",
      "MAE Test: 44.48057319064366\n",
      "Intercepto: 152.61083063288848\n"
     ]
    },
    {
     "data": {
      "text/plain": [
       "s1    -855.214478\n",
       "sex   -261.166011\n",
       "age     10.453849\n",
       "s6     102.377233\n",
       "s3     166.518814\n",
       "bp     280.725445\n",
       "s4     309.887633\n",
       "s2     472.173053\n",
       "bmi    538.845412\n",
       "s5     684.048952\n",
       "dtype: float64"
      ]
     },
     "execution_count": 9,
     "metadata": {},
     "output_type": "execute_result"
    }
   ],
   "source": [
    "from sklearn.datasets import load_diabetes\n",
    "from sklearn.metrics import r2_score, mean_squared_error, mean_absolute_error\n",
    "diabetes = load_diabetes(as_frame = True)\n",
    "X = diabetes.data\n",
    "y = diabetes.target\n",
    "\n",
    "X_train, X_test, y_train, y_test = train_test_split(X,y, test_size = 0.3, random_state = 123)\n",
    "\n",
    "lr = LinearRegression()\n",
    "lr.fit(X_train, y_train)\n",
    "y_pred = lr.predict(X_test)\n",
    "y_pred_train = lr.predict(X_train)\n",
    "\n",
    "r2_train = r2_score(y_train, y_pred_train)\n",
    "r2 = r2_score(y_test, y_pred) # Se puede usar el método score si quieren.\n",
    "\n",
    "mse_train = mean_squared_error(y_train, y_pred_train)\n",
    "mse = mean_squared_error(y_test, y_pred)\n",
    "\n",
    "rmse_train = np.sqrt(mse_train)\n",
    "rmse = np.sqrt(mse)\n",
    "\n",
    "mae_train = mean_absolute_error(y_train, y_pred_train)\n",
    "mae = mean_absolute_error(y_test, y_pred)\n",
    "\n",
    "print('Diabetes:')\n",
    "print('R2 Train:', r2_train)\n",
    "print('R2 Test', r2)\n",
    "print('MSE Train:', mse_train)\n",
    "print('MSE Test:', mse)\n",
    "print('RMSE Train:', rmse_train)\n",
    "print('RMSE Test:', rmse)\n",
    "print('MAE Train:', mae_train)\n",
    "print('MAE Test:', mae)\n",
    "\n",
    "print('Intercepto:', lr.intercept_)\n",
    "\n",
    "#Identificando los coeficientes más importantes\n",
    "pd.Series(lr.coef_, index = X.columns).sort_values()"
   ]
  },
  {
   "cell_type": "code",
   "execution_count": 10,
   "metadata": {},
   "outputs": [
    {
     "name": "stdout",
     "output_type": "stream",
     "text": [
      "Boston:\n",
      "R2 Train: 0.7647156501433012\n",
      "R2 Test 0.6485645742370703\n",
      "MSE Train: 20.184336639873155\n",
      "MSE Test: 28.40585481050824\n",
      "RMSE Train: 4.492698146979514\n",
      "RMSE Test: 5.329714327288869\n",
      "MAE Train: 3.1219958710301117\n",
      "MAE Test: 3.6913626771162673\n",
      "Intercepto: 28.981270388095655\n"
     ]
    },
    {
     "data": {
      "text/plain": [
       "NOX       -14.340917\n",
       "DIS        -1.326740\n",
       "PTRATIO    -0.956626\n",
       "LSTAT      -0.486571\n",
       "CRIM       -0.100994\n",
       "TAX        -0.013044\n",
       "AGE        -0.007441\n",
       "B           0.006425\n",
       "ZN          0.039958\n",
       "INDUS       0.075376\n",
       "CHAS        0.264564\n",
       "RAD         0.273495\n",
       "RM          4.833183\n",
       "dtype: float64"
      ]
     },
     "execution_count": 10,
     "metadata": {},
     "output_type": "execute_result"
    }
   ],
   "source": [
    "from sklearn.metrics import r2_score, mean_squared_error, mean_absolute_error\n",
    "from sklearn.datasets import load_boston\n",
    "\n",
    "X,y  = load_boston(return_X_y  = True)\n",
    "names = load_boston()['feature_names']\n",
    "\n",
    "\n",
    "X_train, X_test, y_train, y_test = train_test_split(X,y, test_size = 0.3, random_state = 123)\n",
    "\n",
    "lr = LinearRegression()\n",
    "lr.fit(X_train, y_train)\n",
    "y_pred = lr.predict(X_test)\n",
    "y_pred_train = lr.predict(X_train)\n",
    "\n",
    "r2_train = r2_score(y_train, y_pred_train)\n",
    "r2 = r2_score(y_test, y_pred) # Se puede usar el método score si quieren.\n",
    "\n",
    "mse_train = mean_squared_error(y_train, y_pred_train)\n",
    "mse = mean_squared_error(y_test, y_pred)\n",
    "\n",
    "rmse_train = np.sqrt(mse_train)\n",
    "rmse = np.sqrt(mse)\n",
    "\n",
    "mae_train = mean_absolute_error(y_train, y_pred_train)\n",
    "mae = mean_absolute_error(y_test, y_pred)\n",
    "\n",
    "print('Boston:')\n",
    "print('R2 Train:', r2_train)\n",
    "print('R2 Test', r2)\n",
    "print('MSE Train:', mse_train)\n",
    "print('MSE Test:', mse)\n",
    "print('RMSE Train:', rmse_train)\n",
    "print('RMSE Test:', rmse)\n",
    "print('MAE Train:', mae_train)\n",
    "print('MAE Test:', mae)\n",
    "\n",
    "print('Intercepto:', lr.intercept_)\n",
    "\n",
    "#Identificando los coeficientes más importantes\n",
    "pd.Series(lr.coef_, index = names).sort_values()"
   ]
  }
 ],
 "metadata": {
  "kernelspec": {
   "display_name": "Python 3.7.7 64-bit ('MLprojects': conda)",
   "language": "python",
   "name": "python37764bitmlprojectsconda9e66019a9ab047499c0882be49df755b"
  },
  "language_info": {
   "codemirror_mode": {
    "name": "ipython",
    "version": 3
   },
   "file_extension": ".py",
   "mimetype": "text/x-python",
   "name": "python",
   "nbconvert_exporter": "python",
   "pygments_lexer": "ipython3",
   "version": "3.7.7"
  },
  "widgets": {
   "application/vnd.jupyter.widget-state+json": {
    "state": {},
    "version_major": 2,
    "version_minor": 0
   }
  }
 },
 "nbformat": 4,
 "nbformat_minor": 4
}
