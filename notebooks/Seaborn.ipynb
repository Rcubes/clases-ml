{
 "cells": [
  {
   "cell_type": "code",
   "execution_count": null,
   "metadata": {},
   "outputs": [],
   "source": [
    "import pandas as pd\n",
    "import numpy as np\n",
    "import matplotlib.pyplot as plt\n",
    "import seaborn as sns"
   ]
  },
  {
   "cell_type": "markdown",
   "metadata": {},
   "source": [
    "# SEABORN"
   ]
  },
  {
   "cell_type": "markdown",
   "metadata": {},
   "source": [
    "> Corresponde a una librería de alto nivel de gráficos. \n",
    "* Los gráficos vienen prehechos, \n",
    "* son más bonitos,\n",
    "* con default incluyen color más agradables,\n",
    "* Incluyen operaciones estadísticas, (esto a veces puede atrasar algunos gráficos)\n",
    "* Es más amigable para realizar un EDA.\n",
    "* Está construido sobre matplotlib por lo que algunas funcionalidades son aplicables también.\n",
    "* Su documentación es muchísimo mejor: https://seaborn.pydata.org/index.html\n",
    "\n",
    "> CON: Es más lento y menos flexible que Matplotlib, aunque debe ser usado en conjunto con matplotlib."
   ]
  },
  {
   "cell_type": "code",
   "execution_count": null,
   "metadata": {},
   "outputs": [],
   "source": [
    "df = pd.read_csv('titanic.csv')\n",
    "df['Signing_date'] = df.Signing_date.astype('datetime64') # transformamos fechas para utilizarlas en el análisis.\n",
    "df"
   ]
  },
  {
   "cell_type": "markdown",
   "metadata": {},
   "source": [
    "# Seteando estilos"
   ]
  },
  {
   "cell_type": "code",
   "execution_count": null,
   "metadata": {},
   "outputs": [],
   "source": [
    "sns.set_style('white') # white, dark, whitegrid, darkgrid, ticks\n",
    "sns.set_context('talk')# notebook talk poster\n",
    "sns.scatterplot(x = 'Age', y = 'Fare', data = df) # primera y última vez que utilizan esta interfaz\n",
    "plt.show()\n",
    "# esta interfax es muy parecida a la de matplotlib"
   ]
  },
  {
   "cell_type": "markdown",
   "metadata": {},
   "source": [
    "> Nota: Seaborn posee montones de gráficos, pero todos se pueden resumir a través de la interfaz de FacetGrid"
   ]
  },
  {
   "cell_type": "markdown",
   "metadata": {},
   "source": [
    "# Interfaz de FacetGrid"
   ]
  },
  {
   "cell_type": "markdown",
   "metadata": {},
   "source": [
    "Seaborn también posee dos interfaces. En la clase sólo mostraremos una, ya que hace el aprendizaje más fácil y reduce la cantidad de código. Esto permite gráficos muy bonitos aprendiendo sólo 3 funciones principales.\n",
    "\n",
    "* replot: Se utilizará para scatter y line.\n",
    "* catplot: para muchos gráficos que utilizan variables categóricas\n",
    "* displot: para distribuciones."
   ]
  },
  {
   "cell_type": "markdown",
   "metadata": {},
   "source": [
    "# RELPLOT"
   ]
  },
  {
   "cell_type": "markdown",
   "metadata": {},
   "source": [
    "## Scatterplots"
   ]
  },
  {
   "cell_type": "markdown",
   "metadata": {},
   "source": [
    "> NOTA: Los scatterplots se utilizarán cuando deseemos entender relación entre dos variables numéricas. en modelación se tienden a utilizar para ver relaciones entre el target (vector objetivo) y las features (variables predictoras)"
   ]
  },
  {
   "cell_type": "code",
   "execution_count": null,
   "metadata": {},
   "outputs": [],
   "source": [
    "sns.relplot(x = 'Age', y= 'Fare', data = df, hue = 'Sex', hue_order = ['female', 'male']) \n",
    "plt.show()"
   ]
  },
  {
   "cell_type": "code",
   "execution_count": null,
   "metadata": {},
   "outputs": [],
   "source": [
    "hue_colors = {'male': 'b',\n",
    "             'female': 'r'}\n",
    "\n",
    "sns.relplot(y = 'Age', x = 'Fare', data = df, hue = 'Sex', hue_order = ['female', 'male'], palette = hue_colors, alpha = 0.2, size = 'Embarked') # try style\n",
    "plt.show()"
   ]
  },
  {
   "cell_type": "code",
   "execution_count": null,
   "metadata": {},
   "outputs": [],
   "source": [
    "df.groupby('Sex').Fare.agg({np.mean, np.max, np.min})"
   ]
  },
  {
   "cell_type": "code",
   "execution_count": null,
   "metadata": {},
   "outputs": [],
   "source": [
    "hue_colors = {'male': 'b',\n",
    "             'female': 'r'}\n",
    "g = sns.relplot(x = 'Fare', y = 'Age', data = df, row = 'Pclass', hue = 'Sex', style = 'Sex', col = 'Embarked', palette = hue_colors)\n",
    "g.set_titles('Scatter Plot de {col_name} vs Clase {row_name}')\n",
    "plt.show()"
   ]
  },
  {
   "cell_type": "markdown",
   "metadata": {},
   "source": [
    "## Linecharts"
   ]
  },
  {
   "cell_type": "markdown",
   "metadata": {},
   "source": [
    "> Normalmente los linecharts se utilizan para mostrar cambios en tendencia (normalmente a lo largo del tiempo)"
   ]
  },
  {
   "cell_type": "code",
   "execution_count": null,
   "metadata": {},
   "outputs": [],
   "source": [
    "s = df.groupby('Signing_date', as_index = False).Fare.mean().rename(columns = {'Fare': 'Precio_Promedio'}) # calcular el valor promedio por fecha.\n",
    "sns.relplot(x = 'Signing_date', y = 'Precio_Promedio', data = s, kind = 'line') # try hue\n",
    "plt.show()"
   ]
  },
  {
   "cell_type": "code",
   "execution_count": null,
   "metadata": {},
   "outputs": [],
   "source": [
    "sns.relplot(x = 'Signing_date', y = 'Fare', data = df, estimator = np.mean, kind = 'line', ci = None, hue = 'Survived', alpha = 0.5, height = 5, aspect = 2)\n",
    "plt.xticks(rotation = 90) # rotate x axis \n",
    "plt.show()"
   ]
  },
  {
   "cell_type": "markdown",
   "metadata": {},
   "source": [
    "# CATPLOT"
   ]
  },
  {
   "cell_type": "markdown",
   "metadata": {},
   "source": [
    "## Countplot "
   ]
  },
  {
   "cell_type": "markdown",
   "metadata": {},
   "source": [
    "> Supongamos queremos saber la distribución de hombres y mujeres a bordo del titanic"
   ]
  },
  {
   "cell_type": "code",
   "execution_count": null,
   "metadata": {},
   "outputs": [],
   "source": [
    "df.Sex.value_counts()"
   ]
  },
  {
   "cell_type": "code",
   "execution_count": null,
   "metadata": {},
   "outputs": [],
   "source": [
    "sns.catplot(y='Sex', data = df, kind = 'count', order = ['female', 'male']) # automáticamente cuenta\n",
    "plt.show()"
   ]
  },
  {
   "cell_type": "code",
   "execution_count": null,
   "metadata": {},
   "outputs": [],
   "source": [
    "hue_colors = {1: 'red',\n",
    "             2: 'yellow',\n",
    "             3: 'blue'}\n",
    "\n",
    "sns.catplot(x='Sex', hue = 'Pclass', data = df, palette = hue_colors, kind = 'count', col = 'Embarked')\n",
    "plt.show()"
   ]
  },
  {
   "cell_type": "code",
   "execution_count": null,
   "metadata": {},
   "outputs": [],
   "source": [
    "sns.catplot(x = 'Pclass', y = 'Survived', data = df, kind = 'bar', estimator = np.mean, ci = None)\n",
    "plt.show()"
   ]
  },
  {
   "cell_type": "markdown",
   "metadata": {},
   "source": [
    "## BoxPlots y amigos"
   ]
  },
  {
   "cell_type": "code",
   "execution_count": null,
   "metadata": {},
   "outputs": [],
   "source": [
    "sns.catplot(x = 'Pclass', y = 'Age', data = df, ci = None, kind = 'swarm', height = 5, aspect = 2) \n",
    "plt.show()\n",
    "# muestra casos por categoría. Normalmente combina categorías con números"
   ]
  },
  {
   "cell_type": "code",
   "execution_count": null,
   "metadata": {},
   "outputs": [],
   "source": [
    "sns.catplot(y = 'Age', x = 'Pclass', data = df, kind = 'box', whis = [5,95], height = 5, aspect = 2) # whis percentiles, float as multiplier of IQR\n",
    "plt.show()"
   ]
  },
  {
   "cell_type": "code",
   "execution_count": null,
   "metadata": {},
   "outputs": [],
   "source": [
    "sns.catplot(y = 'Age', x = 'Pclass', data = df, kind = 'violin', whis = [5,95], height = 5, aspect = 2) # whis percentiles, float as multiplier of IQR\n",
    "plt.show()"
   ]
  },
  {
   "cell_type": "code",
   "execution_count": null,
   "metadata": {},
   "outputs": [],
   "source": [
    "sns.catplot(y = 'Age', x = 'Pclass', data = df, kind = 'boxen', height = 5, aspect = 2, outlier_prop = 0.95) \n",
    "plt.show()"
   ]
  },
  {
   "cell_type": "markdown",
   "metadata": {},
   "source": [
    "# DISPLOT"
   ]
  },
  {
   "cell_type": "code",
   "execution_count": null,
   "metadata": {},
   "outputs": [],
   "source": [
    "g = sns.displot(x = 'Age', data = df, kde = True) # Histograma\n",
    "g.fig.suptitle('Histograma Age', y = 1.05)\n",
    "plt.axvline(22)\n",
    "plt.axvline(40)\n",
    "plt.axvline(80)\n",
    "plt.show()"
   ]
  },
  {
   "cell_type": "code",
   "execution_count": null,
   "metadata": {},
   "outputs": [],
   "source": [
    "sns.displot(x = 'Age', hue = 'Survived', data = df, element = 'step') # try kind = 'kde'\n",
    "plt.show()"
   ]
  },
  {
   "cell_type": "code",
   "execution_count": null,
   "metadata": {},
   "outputs": [],
   "source": [
    "sns.displot(x = 'Age', y = 'Fare', hue = 'Survived', data = df, alpha = 0.4) # try kind = 'kde'\n",
    "plt.show()"
   ]
  },
  {
   "cell_type": "markdown",
   "metadata": {},
   "source": [
    "# Otros Gráficos "
   ]
  },
  {
   "cell_type": "code",
   "execution_count": null,
   "metadata": {},
   "outputs": [],
   "source": [
    "sns.displot(x = 'Age', hue = 'Survived', data = df, kde = True, element ='step')\n",
    "plt.show()"
   ]
  },
  {
   "cell_type": "code",
   "execution_count": null,
   "metadata": {},
   "outputs": [],
   "source": [
    "sns.pairplot(df, hue = 'Survived', corner = True)"
   ]
  },
  {
   "cell_type": "code",
   "execution_count": null,
   "metadata": {},
   "outputs": [],
   "source": [
    "g = sns.pairplot(x_vars = df.select_dtypes(np.number).columns, y_vars = 'Fare', data = df, hue = 'Survived') # corner=True\n",
    "plt.show()"
   ]
  },
  {
   "cell_type": "code",
   "execution_count": null,
   "metadata": {},
   "outputs": [],
   "source": [
    "sns.heatmap(df.corr(), annot = True)\n",
    "plt.show() # no usar heatmaps, mejor cambiar por clustermap"
   ]
  },
  {
   "cell_type": "code",
   "execution_count": null,
   "metadata": {},
   "outputs": [],
   "source": [
    "g = sns.clustermap(df.drop(columns = ['PassengerId']).corr(), annot=True, linewidths=.9, cmap = 'viridis') # entrega de manera segmentada los valores de correlación"
   ]
  },
  {
   "cell_type": "markdown",
   "metadata": {},
   "source": [
    "## Combinando Matplotlib con Seaborn"
   ]
  },
  {
   "cell_type": "code",
   "execution_count": null,
   "metadata": {},
   "outputs": [],
   "source": [
    "g = sns.displot(x ='Age',col ='Survived', data = df)\n",
    "g.map(plt.axvline, x = 40, color = 'r')\n",
    "plt.show()"
   ]
  },
  {
   "cell_type": "code",
   "execution_count": null,
   "metadata": {},
   "outputs": [],
   "source": [
    "g = sns.displot(x ='Age',col ='Survived', data = df)\n",
    "g.map(plt.axhline, y = 40, color = 'r')\n",
    "plt.show()"
   ]
  },
  {
   "cell_type": "code",
   "execution_count": null,
   "metadata": {},
   "outputs": [],
   "source": []
  }
 ],
 "metadata": {
  "kernelspec": {
   "display_name": "Python 3.7.7 64-bit ('MLprojects': conda)",
   "language": "python",
   "name": "python37764bitmlprojectsconda9e66019a9ab047499c0882be49df755b"
  },
  "language_info": {
   "codemirror_mode": {
    "name": "ipython",
    "version": 3
   },
   "file_extension": ".py",
   "mimetype": "text/x-python",
   "name": "python",
   "nbconvert_exporter": "python",
   "pygments_lexer": "ipython3",
   "version": "3.7.7"
  },
  "widgets": {
   "application/vnd.jupyter.widget-state+json": {
    "state": {},
    "version_major": 2,
    "version_minor": 0
   }
  }
 },
 "nbformat": 4,
 "nbformat_minor": 4
}
